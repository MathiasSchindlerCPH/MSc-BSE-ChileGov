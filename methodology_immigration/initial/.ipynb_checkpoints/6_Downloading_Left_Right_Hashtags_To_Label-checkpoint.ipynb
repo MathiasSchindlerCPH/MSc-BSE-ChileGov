{
 "cells": [
  {
   "cell_type": "code",
   "execution_count": null,
   "id": "49293ee8",
   "metadata": {},
   "outputs": [],
   "source": [
    "import pandas as pd\n",
    "import pickle"
   ]
  },
  {
   "cell_type": "markdown",
   "id": "b76969ce",
   "metadata": {},
   "source": [
    "**Manual Input**: Set the path."
   ]
  },
  {
   "cell_type": "code",
   "execution_count": null,
   "id": "0e063b27",
   "metadata": {},
   "outputs": [],
   "source": [
    "path='C:/Users/acoub/OneDrive/Desktop/DSDM/Thesis/Methodology'\n",
    "sep='/'"
   ]
  },
  {
   "cell_type": "code",
   "execution_count": null,
   "id": "c547e609",
   "metadata": {},
   "outputs": [],
   "source": [
    "path_scripts = path+sep+'new_topic'\n",
    "path_data= path+sep+'data'"
   ]
  },
  {
   "cell_type": "code",
   "execution_count": null,
   "id": "f8dffa31",
   "metadata": {},
   "outputs": [],
   "source": [
    "file = path_data+sep+'final_data_set.sav'\n",
    "df = pickle.load(open(file, 'rb'))\n",
    "\n",
    "file = path_data+sep+'hashtags_for_label.sav'\n",
    "left_hashtags,right_hashtags = pickle.load(open(file, 'rb'))"
   ]
  },
  {
   "cell_type": "code",
   "execution_count": null,
   "id": "90dca907",
   "metadata": {},
   "outputs": [],
   "source": [
    "hashtag_sting=\"(\"\n",
    "for hashtag in (left_hashtags+right_hashtags):\n",
    "    hashtag_sting+=hashtag + \" OR \"\n",
    "hashtag_sting=hashtag_sting[:len(hashtag_sting)-4]+\")\"\n",
    "    \n",
    "authors=list(df['author.username'])\n",
    "authors = list(set(authors))"
   ]
  },
  {
   "cell_type": "code",
   "execution_count": null,
   "id": "9ca2f160",
   "metadata": {},
   "outputs": [],
   "source": [
    "query_text= hashtag_string\n",
    "queries_list=[]\n",
    "query_from_good=\"\"\n",
    "query_from_test=\"\"\n",
    "\n",
    "for author in authors:\n",
    "    query_from_test+=\"from: \" + author + \" OR \"\n",
    "    if len(query_text + query_from_test) + 3 <= 1024:\n",
    "        query_from_good = query_from_test\n",
    "    else:\n",
    "        queries_list.append(\"(\"+query_from_good[:len(query_from_good)-4]+\")\"+ query_text)\n",
    "        query_from_good=\"from: \" + author + \" OR \"\n",
    "        query_from_test=\"from: \" + author + \" OR \""
   ]
  },
  {
   "cell_type": "code",
   "execution_count": null,
   "id": "4d4a7abe",
   "metadata": {},
   "outputs": [],
   "source": [
    "print(len(queries_list))"
   ]
  },
  {
   "cell_type": "code",
   "execution_count": null,
   "id": "5f15728c",
   "metadata": {},
   "outputs": [],
   "source": [
    "with open(path_data+sep+'search_for_labels.txt', 'w') as f:\n",
    "    for line in queries_list:\n",
    "        f.write(line)\n",
    "        f.write('\\n')"
   ]
  },
  {
   "cell_type": "markdown",
   "id": "323c1413",
   "metadata": {},
   "source": [
    "**Manual revision:** Run the following two cells to know the total number of tweets to download and see if does not exceed the limit of your twarc acount. If is OK run also the next cell."
   ]
  },
  {
   "cell_type": "code",
   "execution_count": null,
   "id": "11c29f08",
   "metadata": {},
   "outputs": [],
   "source": [
    "file = path_data+sep+'dates_for_label.sav'\n",
    "start_date,end_date = pickle.load(open(file, 'rb'))\n",
    "\n",
    "file=path_data+sep+'search_for_labels.txt'\n",
    "%cd {path_data}\n",
    "! twarc2 searches --archive --counts-only --granularity day --start-time {start_date} --end-time {end_date} {file} labels_count.csv"
   ]
  },
  {
   "cell_type": "code",
   "execution_count": null,
   "id": "f8d468bf",
   "metadata": {},
   "outputs": [],
   "source": [
    "count=pd.read_csv(path_data+sep+'labels_count.csv',encoding = \"ISO-8859-1\")\n",
    "print(\"Tweets to download: \"+str(count['day_count'].sum()))"
   ]
  },
  {
   "cell_type": "markdown",
   "id": "089202c0",
   "metadata": {},
   "source": [
    "**Download the tweets:** (Only if you have enought limit in your twarc account)"
   ]
  },
  {
   "cell_type": "code",
   "execution_count": null,
   "id": "8ac75cb6",
   "metadata": {},
   "outputs": [],
   "source": [
    "%cd {path_data}\n",
    "! twarc2 searches --archive --start-time {start_date} --end-time {end_date} {file} right_left_hashtags.json"
   ]
  }
 ],
 "metadata": {
  "kernelspec": {
   "display_name": "Python 3",
   "language": "python",
   "name": "python3"
  },
  "language_info": {
   "codemirror_mode": {
    "name": "ipython",
    "version": 3
   },
   "file_extension": ".py",
   "mimetype": "text/x-python",
   "name": "python",
   "nbconvert_exporter": "python",
   "pygments_lexer": "ipython3",
   "version": "3.8.8"
  }
 },
 "nbformat": 4,
 "nbformat_minor": 5
}
