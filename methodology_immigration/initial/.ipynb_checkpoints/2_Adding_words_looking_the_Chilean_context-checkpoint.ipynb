{
 "cells": [
  {
   "cell_type": "code",
   "execution_count": 28,
   "id": "60b386fd",
   "metadata": {},
   "outputs": [],
   "source": [
    "import json\n",
    "from twarc_csv import DataFrameConverter\n",
    "from twarc.expansions import ensure_flattened\n",
    "import pandas as pd\n",
    "from twarc_csv import dataframe_converter\n",
    "from twarc_csv import CSVConverter, DataFrameConverter\n",
    "import math\n",
    "import emoji\n",
    "from operator import itemgetter\n",
    "import matplotlib.pyplot as plt\n",
    "from datetime import datetime\n",
    "from datetime import timedelta\n",
    "from advertools import extract_emoji\n",
    "import numpy as np\n",
    "import pickle"
   ]
  },
  {
   "cell_type": "markdown",
   "id": "1ab6be53",
   "metadata": {},
   "source": [
    "**Manual Input**: Set the path."
   ]
  },
  {
   "cell_type": "code",
   "execution_count": 29,
   "id": "4b2d6d1f",
   "metadata": {},
   "outputs": [],
   "source": [
    "path='C:/Users/acoub/OneDrive/Desktop/DSDM/Thesis/Methodology'\n",
    "sep='/'"
   ]
  },
  {
   "cell_type": "code",
   "execution_count": 48,
   "id": "cf949fe4",
   "metadata": {},
   "outputs": [],
   "source": [
    "path_scripts = path+sep+'new_topic'\n",
    "path_data= path+sep+'data'"
   ]
  },
  {
   "cell_type": "code",
   "execution_count": 30,
   "id": "04a87016",
   "metadata": {},
   "outputs": [],
   "source": [
    "converter = DataFrameConverter()\n",
    "data = []\n",
    "with open(path+sep+\"data\"+sep+\"first_search.json\") as f:\n",
    "    for line in f:\n",
    "        data.append(json.loads(line))\n",
    "df = converter.process(data)"
   ]
  },
  {
   "cell_type": "code",
   "execution_count": 31,
   "id": "90d70a66",
   "metadata": {},
   "outputs": [
    {
     "data": {
      "text/plain": [
       "(47, 74)"
      ]
     },
     "execution_count": 31,
     "metadata": {},
     "output_type": "execute_result"
    }
   ],
   "source": [
    "df.shape"
   ]
  },
  {
   "cell_type": "code",
   "execution_count": 32,
   "id": "eb7a7557",
   "metadata": {},
   "outputs": [],
   "source": [
    "def hash_retrieve(df):\n",
    "    \"\"\"\n",
    "    df : dataframe of tweets\n",
    "    Description: \n",
    "        The function takes as an object a df of tweets obtained via twarc and \n",
    "        returns a generator object.\n",
    "    \n",
    "    \"\"\"\n",
    "\n",
    "    for line, id in zip(df['entities.hashtags'], df['id']):\n",
    "        if pd.isna(line):\n",
    "            continue\n",
    "        line = line.strip()\n",
    "        data = json.loads(line)\n",
    "        for hashtag in ensure_flattened(data):\n",
    "            yield [hashtag['tag'], id]"
   ]
  },
  {
   "cell_type": "code",
   "execution_count": 33,
   "id": "a7f028f5",
   "metadata": {},
   "outputs": [],
   "source": [
    "hashtags_df = pd.DataFrame(list(hash_retrieve(df)),\n",
    "                 columns=['tweet_hashtags', 'id'])\n",
    "\n",
    "hashtags_df = hashtags_df.groupby('id')['tweet_hashtags'].apply(lambda x: ','.join(x))\n",
    "df = df.merge(hashtags_df, how='left', left_on='id', right_on='id')\n",
    "df['tweet_hashtags']=df['tweet_hashtags'].str.lower()"
   ]
  },
  {
   "cell_type": "code",
   "execution_count": 34,
   "id": "53c35286",
   "metadata": {},
   "outputs": [],
   "source": [
    "hasht=[]\n",
    "for i in df.index:\n",
    "    try:\n",
    "        hasht.append(df['tweet_hashtags'][i].split(\",\"))\n",
    "    except:\n",
    "        hasht.append([])\n",
    "    \n",
    "    \n",
    "df['list_hashtags']=hasht"
   ]
  },
  {
   "cell_type": "code",
   "execution_count": 35,
   "id": "19f38bb4",
   "metadata": {},
   "outputs": [],
   "source": [
    "hashtags=[]\n",
    "for i in df.index:\n",
    "    hashtags+=df['list_hashtags'][i]"
   ]
  },
  {
   "cell_type": "markdown",
   "id": "b82dbfa3",
   "metadata": {},
   "source": [
    "**Look output**: 100 most used hashtag for your topic in tweets geolocated in Chile."
   ]
  },
  {
   "cell_type": "code",
   "execution_count": 36,
   "id": "a0c4166a",
   "metadata": {},
   "outputs": [
    {
     "name": "stdout",
     "output_type": "stream",
     "text": [
      "[('debatearchi', 2), ('kastenarchi', 2), ('candidatollegotuhora', 2), ('pequeñosagricultores', 1), ('boricmiente', 1), ('kast2022', 1), ('chillán', 1), ('seguimos', 1), ('enterreno', 1), ('siemprepresente', 1), ('puertoaysén', 1), ('aysénmejoracontigo', 1), ('chile', 1), ('boricpresidentechile2022', 1), ('kastpresidente2022', 1), ('todoskast', 1), ('chiletienefuturo', 1), ('todochileconkast', 1), ('votakast', 1), ('todochilevotakast', 1), ('equipokast', 1), ('kast', 1), ('boricnoseatrevedebatir', 1), ('llegotuhora', 1), ('atreveteconkast', 1), ('eslahoradekast', 1), ('llegolahoradekast', 1)]\n"
     ]
    }
   ],
   "source": [
    "from collections import Counter\n",
    "count = Counter(hashtags)\n",
    "  \n",
    "# most_common() produces k frequently encountered\n",
    "# input values and their respective counts.\n",
    "most_occur = count.most_common(100)\n",
    "  \n",
    "print(most_occur)"
   ]
  },
  {
   "cell_type": "code",
   "execution_count": 37,
   "id": "be38d010",
   "metadata": {},
   "outputs": [],
   "source": [
    "import numpy as np\n",
    "import pandas as pd\n",
    "import emoji\n",
    "from nltk.corpus import stopwords\n",
    "from nltk.stem import SnowballStemmer   \n",
    "from nltk.stem.wordnet import WordNetLemmatizer\n",
    "import nltk\n",
    "import re\n",
    "import matplotlib.pyplot as plt\n",
    "import seaborn as sns\n",
    "import string\n",
    "\n",
    "stopwords_eng =stopwords.words(\"english\")\n",
    "stopwords_es =stopwords.words(\"spanish\")\n",
    "stopwords_all=stopwords_eng+stopwords_es\n",
    "\n",
    "def cleanTweets(s,remove_hash):\n",
    "    #Function to clean tweets, for now i am keeping emojis and hashtags. Alternative version\n",
    "    if type(s)==np.float:\n",
    "        return \"\"\n",
    "    #Demojize text\n",
    "#    s=emoji.demojize(s,delimiters=(\"\", \" \"))\n",
    "    \n",
    "    #Remove new lines, etc.\n",
    "    s = s.replace(r'<lb>', \"\\n\")\n",
    "    s = s.replace(r'<tab>', \"\\i\")\n",
    "    s = re.sub(r'<br */*>', \"\\n\", s)\n",
    "    s = s.replace(\"&lt;\", \"<\").replace(\"&gt;\", \">\").replace(\"&amp;\", \"&\")\n",
    "    s = s.replace(\"&amp;\", \"&\")\n",
    "    s = s.replace(\"\\n\", \" \")\n",
    "    s = s.replace(\"\\\\n\", \" \")\n",
    "    \n",
    "    emoji_pattern = re.compile(\"[\"\n",
    "        u\"\\U0001F600-\\U0001F64F\"  # emoticons\n",
    "        u\"\\U0001F300-\\U0001F5FF\"  # symbols & pictographs\n",
    "        u\"\\U0001F680-\\U0001F6FF\"  # transport & map symbols\n",
    "        u\"\\U0001F1E0-\\U0001F1FF\"  # flags (iOS)\n",
    "                           \"]+\", flags=re.UNICODE)\n",
    "    s= emoji_pattern.sub(r'', s)\n",
    "    \n",
    "    \n",
    "    # markdown urls\n",
    "    s = re.sub(r'\\(https*://[^\\)]*\\)', \"\", s)\n",
    "    # normal urls\n",
    "    s = re.sub(r'https*://[^\\s]*', \"\", s)\n",
    "    #s = re.sub(r'_+', ' ', s)\n",
    "    s = re.sub(r'\"+', '\"', s)\n",
    "    #Remove punctuation    \n",
    "    s = re.sub('[()!?]', ' ', s)\n",
    "    s = re.sub('\\[.*?\\]',' ', s)\n",
    "    s = re.sub('\\[,*?\\]',' ', s)\n",
    "    # custom removals\n",
    "    #s = re.sub(r'@[A-Za-z0-9_]+', \"\", s) # replace mentions\n",
    "    s = re.sub(r':[^:]+','[emoji]',s) # remove demojized text\n",
    "    s= re.sub(r'[0-9]','',s)# remove digits\n",
    "    \n",
    "    s = s.translate(str.maketrans('', '', '!\"$%&\\'()*+,-./:;<=>?[\\\\]^_`{|}~'))\n",
    "    \n",
    "    s=s.lower()\n",
    "    if remove_hash==True:\n",
    "        s = re.sub(r'#[A-Za-z0-9_]+', \"\", s)\n",
    "    \n",
    "    #Remove stopwords\n",
    "    s = ' '.join([word for word in s.split() if word not in stopwords_all])\n",
    "    \n",
    "    return str(s)"
   ]
  },
  {
   "cell_type": "code",
   "execution_count": 38,
   "id": "c54139c4",
   "metadata": {},
   "outputs": [
    {
     "name": "stderr",
     "output_type": "stream",
     "text": [
      "<ipython-input-37-8fa97597cc03>:19: DeprecationWarning: `np.float` is a deprecated alias for the builtin `float`. To silence this warning, use `float` by itself. Doing this will not modify any behavior and is safe. If you specifically wanted the numpy scalar type, use `np.float64` here.\n",
      "Deprecated in NumPy 1.20; for more details and guidance: https://numpy.org/devdocs/release/1.20.0-notes.html#deprecations\n",
      "  if type(s)==np.float:\n"
     ]
    }
   ],
   "source": [
    "import unidecode\n",
    "df['cleaned_text'] = [cleanTweets(text,False) for text in df['text']]\n",
    "df['cleaned_text']= df['cleaned_text'].apply(unidecode.unidecode)"
   ]
  },
  {
   "cell_type": "markdown",
   "id": "228d0164",
   "metadata": {},
   "source": [
    "**Look output**: 100 most used word for your topic in tweets geolocated in Chile."
   ]
  },
  {
   "cell_type": "code",
   "execution_count": 43,
   "id": "bffeb1b4",
   "metadata": {},
   "outputs": [
    {
     "name": "stdout",
     "output_type": "stream",
     "text": [
      "[('mejorar', 43), ('boric', 9), ('si', 7), ('vida', 7), ('ser', 6), ('calidad', 6), ('educacion', 5), ('debe', 5), ('solo', 5), ('chile', 4), ('bien', 4), ('sistema', 4), ('salud', 4), ('creo', 4), ('@izkia', 4), ('vamos', 4), ('inmigracion', 4), ('comunista', 3), ('kast', 3), ('politico', 3), ('candidato', 3), ('regiones', 3), ('junto', 3), ('propuesta', 3), ('programa', 3), ('puede', 3), ('puedes', 3), ('asi', 3), ('proyecto', 3), ('nuevamente', 2), ('van', 2), ('servicio', 2), ('@mamalobacl', 2), ('@adnradiochile', 2), ('mientras', 2), ('debemos', 2), ('claro', 2), ('personas', 2), ('derecha', 2), ('buena', 2), ('presion', 2), ('laborales', 2), ('cree', 2), ('poder', 2), ('chiste', 2), ('cuenta', 2), ('votan', 2), ('desafios', 2), ('trabajo', 2), ('terreno', 2), ('habla', 2), ('impuestos', 2), ('carrera', 2), ('ustedes', 2), ('chilenos', 2), ('muestra', 2), ('fotos', 2), ('cambiar', 2), ('mejor', 2), ('cosas', 2), ('seguridad', 2), ('verdad', 2), ('region', 2), ('cero', 2), ('ningun', 2), ('ilegal', 2), ('#debatearchi', 2), ('#kastenarchi', 2), ('#kast', 2), ('presidente', 2), ('ayuda', 2), ('va', 2), ('seremi', 2), ('hacen', 2), ('ver', 2), ('parece', 2), ('social', 2), ('sigo', 2), ('@joseantoniokast', 2), ('opcion', 2), ('paz', 2), ('chica', 2), ('trabajando', 2), ('siempre', 2), ('#candidatollegotuhora', 2), ('pesima', 1), ('senal', 1), ('@movistarchile', 1), ('@ayudamovistarcl', 1), ('zona', 1), ('paga', 1), ('cada', 1), ('mes', 1), ('cumpliendo', 1), ('@sernac', 1), ('@subtelchile', 1), ('@patocavicchioli', 1), ('pude', 1), ('subsidio', 1), ('empleo', 1), ('hace', 1), ('hoy', 1), ('apoyas', 1), ('pymes', 1), ('productividad', 1), ('dejan', 1), ('obras', 1), ('listas', 1), ('politicas', 1), ('mala', 1), ('ignorante', 1), ('ocde', 1), ('dice', 1), ('existir', 1), ('seguro', 1), ('universal', 1), ('unico', 1), ('suerte', 1), ('debes', 1), ('saber', 1), ('leer', 1), ('@cristibruna', 1), ('@cooperativa', 1), ('cristi', 1), ('bruna', 1), ('fallecido', 1), ('querido', 1), ('familia', 1), ('cosa', 1), ('argumentariasson', 1), ('fallecidas', 1), ('entorno', 1), ('familiar', 1), ('sufriendo', 1), ('decir', 1), ('izquierda', 1), ('gestion', 1), ('toda', 1), ('oposicion', 1), ('pudo', 1), ('@gastongep', 1), ('activista', 1), ('pc', 1), ('adeuda', 1), ('fisco', 1), ('realiza', 1), ('actividades', 1), ('gremiales', 1), ('horas', 1), ('alguien', 1), ('viejo', 1), ('ansia', 1), ('figura', 1), ('figurar', 1), ('desgastado', 1), ('monotono', 1), ('cambio', 1), ('joven', 1), ('nuevas', 1), ('ideas', 1), ('@juanadiazchile', 1), ('judia', 1), ('vota', 1), ('hijo', 1), ('nazi', 1), ('amigo', 1), ('torturadoresel', 1), ('gaysabc', 1), ('promueve', 1), ('disidencias', 1), ('sexuales', 1), ('solito', 1), ('conocer', 1), ('primera', 1), ('fuente', 1), ('productivos', 1), ('#pequenosagricultores', 1), ('@indapchile', 1), ('necesidades', 1), ('fundamental', 1), ('desarrollar', 1), ('instrumentos', 1), ('programaspor', 1), ('esola', 1), ('esencia', 1), ('cusuario', 1), ('@danielvidalv', 1), ('@drbarreraprocto', 1), ('bueno', 1), ('subir', 1), ('recaudar', 1), ('definitivamente', 1), ('bajar', 1), ('imposible', 1), ('imagino', 1), ('esperamos', 1), ('mejore', 1), ('@jschaulsohn', 1), ('pretende', 1), ('escuelas', 1)]\n"
     ]
    }
   ],
   "source": [
    "df['cleaned_text']=df['cleaned_text'].fillna(\"\")\n",
    "string=\" \".join(list(df['cleaned_text']))\n",
    "from collections import Counter\n",
    "split_it = string.split()\n",
    "Counter = Counter(split_it)\n",
    "most_occur = Counter.most_common(200)\n",
    "  \n",
    "print(most_occur)"
   ]
  },
  {
   "cell_type": "markdown",
   "id": "07b4330d",
   "metadata": {},
   "source": [
    "**Manual input**: Looking the most common words in chilean context, decide if you want to add new words to the list and put all the words in the list (the words that you used in the first search and also the words that you want to add).\n",
    "  \n",
    "Also add the start and end date for your final data set."
   ]
  },
  {
   "cell_type": "code",
   "execution_count": 44,
   "id": "f4d82bdb",
   "metadata": {},
   "outputs": [],
   "source": [
    "list_of_words=['mejorar','inmigracion','laborales']"
   ]
  },
  {
   "cell_type": "code",
   "execution_count": null,
   "id": "5b5f7e45",
   "metadata": {},
   "outputs": [],
   "source": [
    "filename = path_data+sep+'keywords.sav'\n",
    "pickle.dump((list_of_words), open(filename, 'wb'))"
   ]
  },
  {
   "cell_type": "code",
   "execution_count": null,
   "id": "b814afa2",
   "metadata": {},
   "outputs": [],
   "source": [
    "filename = path_data+sep+'first_search_dates.sav'\n",
    "start_date,end_date=pickle.load(open(filename, 'wb'))"
   ]
  },
  {
   "cell_type": "markdown",
   "id": "7597fe3f",
   "metadata": {},
   "source": [
    "**Manual input:** Add words related with your country of interest separated by an OR."
   ]
  },
  {
   "cell_type": "code",
   "execution_count": 45,
   "id": "36b41f5c",
   "metadata": {},
   "outputs": [],
   "source": [
    "str_country=\"(chile OR santiago OR iquique OR arica OR piñera OR pinera OR boric OR kast OR valparaiso OR antofagasta OR colchane OR copiapo OR coquimbo OR rancagua OR talca OR conce OR temuco OR puerto montt OR valdivia OR coyhaique OR punta arenas OR weon OR weona)\""
   ]
  },
  {
   "cell_type": "code",
   "execution_count": null,
   "id": "5357974b",
   "metadata": {},
   "outputs": [],
   "source": [
    "filename = path_data+sep+'country_string.sav'\n",
    "pickle.dump((str_country), open(filename, 'wb'))"
   ]
  },
  {
   "cell_type": "markdown",
   "id": "869fae87",
   "metadata": {},
   "source": [
    "Read the output and follow the instruction in case that you have to remove some words."
   ]
  },
  {
   "cell_type": "code",
   "execution_count": 47,
   "id": "90765fba",
   "metadata": {},
   "outputs": [
    {
     "name": "stdout",
     "output_type": "stream",
     "text": [
      "Ready to run the next cell and search in twarc.\n"
     ]
    }
   ],
   "source": [
    "query=\"\"\n",
    "for word in list_of_words:\n",
    "    query+= word + \" OR \"\n",
    "query=query[:len(query)-4]\n",
    "\n",
    "query_place=\"(\"+query+\")\"+ \" -is:retweet place_country:CL\"\n",
    "query_wrelated=\"(\"+query+\")\"+ str_country + \" -is:retweet\"\n",
    "\n",
    "if len(query_place)<=1024 and len(query_wrelated)<=1024:\n",
    "    print(\"Ready to run the next cell and search in twarc.\")\n",
    "else:\n",
    "    print(\"Query too long, reduce the list of words.\")"
   ]
  },
  {
   "cell_type": "code",
   "execution_count": 49,
   "id": "4f8b2ef0",
   "metadata": {},
   "outputs": [],
   "source": [
    "with open(path_data+sep+\"second_search.txt\", 'w') as f:\n",
    "    f.write(query_place)\n",
    "    f.write(\"\\n\")\n",
    "    f.write(query_wrelated)"
   ]
  },
  {
   "cell_type": "markdown",
   "id": "7bf01629",
   "metadata": {},
   "source": [
    "**Manual revision:** Run the following two cells to know the total number of tweets to download and see if does not exceed the limit of your twarc acount. If is OK run also the next cell."
   ]
  },
  {
   "cell_type": "code",
   "execution_count": 51,
   "id": "c1efcc74",
   "metadata": {},
   "outputs": [
    {
     "name": "stdout",
     "output_type": "stream",
     "text": [
      "C:\\Users\\acoub\\OneDrive\\Desktop\\DSDM\\Thesis\\Methodology\\data\n"
     ]
    },
    {
     "name": "stderr",
     "output_type": "stream",
     "text": [
      "\n",
      "  0%|          | Processed 0/2 lines of input file [00:00<?, ?it/s]\n",
      "100%|##########| Processed 2/2 lines of input file [00:01<00:00,  1.49it/s]\n",
      "100%|##########| Processed 2/2 lines of input file [00:02<00:00,  1.34s/it]\n"
     ]
    }
   ],
   "source": [
    "file=path_data+sep+\"second_search.txt\"\n",
    "%cd {path_data}\n",
    "! twarc2 searches --archive --counts-only --granularity day --start-time {start_date} --end-time {end_date} {file} second_search_count.csv"
   ]
  },
  {
   "cell_type": "code",
   "execution_count": 54,
   "id": "26700b65",
   "metadata": {},
   "outputs": [
    {
     "name": "stdout",
     "output_type": "stream",
     "text": [
      "Tweets to download: 792\n"
     ]
    }
   ],
   "source": [
    "count=pd.read_csv(path_data+sep+'second_search_count.csv',encoding = \"ISO-8859-1\")\n",
    "print(\"Tweets to download: \"+str(count['day_count'].sum()))"
   ]
  },
  {
   "cell_type": "markdown",
   "id": "d4e5305f",
   "metadata": {},
   "source": [
    "**Download the tweets:** (Only if you have enought limit in your twarc account)"
   ]
  },
  {
   "cell_type": "code",
   "execution_count": 50,
   "id": "8b66f034",
   "metadata": {},
   "outputs": [
    {
     "name": "stdout",
     "output_type": "stream",
     "text": [
      "C:\\Users\\acoub\\OneDrive\\Desktop\\DSDM\\Thesis\\Methodology\\data\n"
     ]
    },
    {
     "name": "stderr",
     "output_type": "stream",
     "text": [
      "\n",
      "  0%|          | Processed 0/2 lines of input file [00:00<?, ?it/s]\n",
      "100%|##########| Processed 2/2 lines of input file [00:02<00:00,  1.21s/it]\n",
      "100%|##########| Processed 2/2 lines of input file [00:22<00:00, 11.11s/it]\n"
     ]
    }
   ],
   "source": [
    "%cd {path_data}\n",
    "! twarc2 searches --archive --start-time {start_date} --end-time {end_date} {file} second_search.json"
   ]
  },
  {
   "cell_type": "code",
   "execution_count": null,
   "id": "c4514268",
   "metadata": {},
   "outputs": [],
   "source": []
  }
 ],
 "metadata": {
  "kernelspec": {
   "display_name": "Python 3",
   "language": "python",
   "name": "python3"
  },
  "language_info": {
   "codemirror_mode": {
    "name": "ipython",
    "version": 3
   },
   "file_extension": ".py",
   "mimetype": "text/x-python",
   "name": "python",
   "nbconvert_exporter": "python",
   "pygments_lexer": "ipython3",
   "version": "3.8.8"
  }
 },
 "nbformat": 4,
 "nbformat_minor": 5
}
