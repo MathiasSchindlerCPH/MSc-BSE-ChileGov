{
 "cells": [
  {
   "cell_type": "code",
   "execution_count": 1,
   "id": "bb373e61",
   "metadata": {},
   "outputs": [],
   "source": [
    "import pandas as pd\n",
    "import pickle"
   ]
  },
  {
   "cell_type": "markdown",
   "id": "e77e4500",
   "metadata": {},
   "source": [
    "**Manual input**: Write the path where you have the folder and the separator that your computer use."
   ]
  },
  {
   "cell_type": "code",
   "execution_count": 2,
   "id": "1b10379a",
   "metadata": {},
   "outputs": [],
   "source": [
    "path='C:/Users/acoub/OneDrive/Desktop/DSDM/Thesis/ChileGov/methodology_immigration'\n",
    "sep='/'"
   ]
  },
  {
   "cell_type": "code",
   "execution_count": 3,
   "id": "4b1438ba",
   "metadata": {},
   "outputs": [],
   "source": [
    "path_scripts = path+sep+'initial'\n",
    "path_data= path+sep+'data'"
   ]
  },
  {
   "cell_type": "markdown",
   "id": "d6468a0d",
   "metadata": {},
   "source": [
    "**Manual input**: Put the list of words that are related with the topic of interest (visit web page semantic-link.com to obtain a first list and manaully filter by the most relevant)\n",
    "  \n",
    "Warning: The final list of words must have maximum 900 characteres aprox, so select only the relevants."
   ]
  },
  {
   "cell_type": "code",
   "execution_count": 4,
   "id": "bc5d009c",
   "metadata": {},
   "outputs": [],
   "source": [
    "list_of_words=['inmigracion', 'migracion', 'migrante','migrantes', 'inmigrante', 'inmigrantes', 'emigrantes',\n",
    "'deportacion', 'deportado', 'deportados', 'refugiado', 'refugiados']"
   ]
  },
  {
   "cell_type": "markdown",
   "id": "c7c2b075",
   "metadata": {},
   "source": [
    "**Manual input**: Select the period of time that you want to search. Format YYYY-MM-DD"
   ]
  },
  {
   "cell_type": "code",
   "execution_count": 5,
   "id": "2cfb2837",
   "metadata": {},
   "outputs": [],
   "source": [
    "start_date=\"2020-11-01\"\n",
    "end_date=\"2022-04-11\""
   ]
  },
  {
   "cell_type": "code",
   "execution_count": 6,
   "id": "e0eca190",
   "metadata": {},
   "outputs": [],
   "source": [
    "filename = path_data+sep+'start_search_date.sav'\n",
    "pickle.dump((start_date), open(filename, 'wb'))\n",
    "\n",
    "filename = path_data+sep+'end_search_date.sav'\n",
    "pickle.dump((end_date), open(filename, 'wb'))"
   ]
  },
  {
   "cell_type": "markdown",
   "id": "4ced5d23",
   "metadata": {},
   "source": [
    "Run this cell and follow the instructions of the output."
   ]
  },
  {
   "cell_type": "code",
   "execution_count": 7,
   "id": "63fac7a0",
   "metadata": {},
   "outputs": [
    {
     "name": "stdout",
     "output_type": "stream",
     "text": [
      "Ready to run the next cell and search in twarc.\n"
     ]
    }
   ],
   "source": [
    "query=\"\"\n",
    "for word in list_of_words:\n",
    "    query+= word + \" OR \"\n",
    "query=query[:len(query)-4]\n",
    "\n",
    "query=\"(\"+query+\")\"+ \" -is:retweet place_country:CL\"\n",
    "\n",
    "if len(query)<=1024:\n",
    "    print(\"Ready to run the next cell and search in twarc.\")\n",
    "else:\n",
    "    print(\"Query too long, reduce the list of words.\")"
   ]
  },
  {
   "cell_type": "code",
   "execution_count": 8,
   "id": "715e1899",
   "metadata": {},
   "outputs": [],
   "source": [
    "with open(path_data+sep+\"first_search.txt\", 'w') as f:\n",
    "    f.write(query)"
   ]
  },
  {
   "cell_type": "code",
   "execution_count": 9,
   "id": "f2569cfa",
   "metadata": {},
   "outputs": [],
   "source": [
    "file=path_data+sep+\"first_search.txt\""
   ]
  },
  {
   "cell_type": "markdown",
   "id": "79db07dd",
   "metadata": {},
   "source": [
    "**Manual revision:** Run the following two cells to know the total number of tweets to download and see if does not exceed the limit of your twarc acount. If is OK run also the next cell."
   ]
  },
  {
   "cell_type": "code",
   "execution_count": 10,
   "id": "4e6d6590",
   "metadata": {},
   "outputs": [
    {
     "name": "stdout",
     "output_type": "stream",
     "text": [
      "C:\\Users\\acoub\\OneDrive\\Desktop\\DSDM\\Thesis\\test\\methodology_immigration\\data\n"
     ]
    },
    {
     "name": "stderr",
     "output_type": "stream",
     "text": [
      "\n",
      "  0%|          | Processed 0/1 lines of input file [00:00<?, ?it/s]\n",
      "100%|##########| Processed 1/1 lines of input file [00:22<00:00, 22.65s/it]\n"
     ]
    }
   ],
   "source": [
    "%cd {path_data}\n",
    "! twarc2 searches --archive --counts-only --granularity day --start-time {start_date} --end-time {end_date} {file} first_search_count.csv"
   ]
  },
  {
   "cell_type": "code",
   "execution_count": 11,
   "id": "64dcc8a3",
   "metadata": {},
   "outputs": [
    {
     "name": "stdout",
     "output_type": "stream",
     "text": [
      "Tweets to download: 15529\n"
     ]
    }
   ],
   "source": [
    "count=pd.read_csv(path_data+sep+'first_search_count.csv',encoding = \"ISO-8859-1\")\n",
    "print(\"Tweets to download: \"+str(count['day_count'].sum()))"
   ]
  },
  {
   "cell_type": "markdown",
   "id": "2f0f10dc",
   "metadata": {},
   "source": [
    "**Download the tweets:** (Only if you have enought limit in your twarc account)"
   ]
  },
  {
   "cell_type": "code",
   "execution_count": 12,
   "id": "61ea82e7",
   "metadata": {},
   "outputs": [
    {
     "name": "stdout",
     "output_type": "stream",
     "text": [
      "C:\\Users\\acoub\\OneDrive\\Desktop\\DSDM\\Thesis\\test\\methodology_immigration\\data\n"
     ]
    },
    {
     "name": "stderr",
     "output_type": "stream",
     "text": [
      "\n",
      "  0%|          | Processed 0/1 lines of input file [00:00<?, ?it/s]\n",
      "100%|##########| Processed 1/1 lines of input file [06:43<00:00, 403.82s/it]\n"
     ]
    }
   ],
   "source": [
    "%cd {path_data}\n",
    "! twarc2 searches --archive --start-time {start_date} --end-time {end_date} {file} first_search.json"
   ]
  },
  {
   "cell_type": "code",
   "execution_count": null,
   "id": "2f2c4bf8",
   "metadata": {},
   "outputs": [],
   "source": []
  }
 ],
 "metadata": {
  "kernelspec": {
   "display_name": "Python 3",
   "language": "python",
   "name": "python3"
  },
  "language_info": {
   "codemirror_mode": {
    "name": "ipython",
    "version": 3
   },
   "file_extension": ".py",
   "mimetype": "text/x-python",
   "name": "python",
   "nbconvert_exporter": "python",
   "pygments_lexer": "ipython3",
   "version": "3.8.8"
  }
 },
 "nbformat": 4,
 "nbformat_minor": 5
}
