{
 "cells": [
  {
   "cell_type": "code",
   "execution_count": null,
   "id": "598c254e",
   "metadata": {},
   "outputs": [],
   "source": [
    "import json\n",
    "from twarc_csv import DataFrameConverter\n",
    "from twarc.expansions import ensure_flattened\n",
    "import pandas as pd\n",
    "from twarc_csv import dataframe_converter\n",
    "from twarc_csv import CSVConverter, DataFrameConverter\n",
    "import math\n",
    "import emoji\n",
    "from operator import itemgetter\n",
    "import matplotlib.pyplot as plt\n",
    "from datetime import datetime\n",
    "from datetime import timedelta\n",
    "from advertools import extract_emoji\n",
    "import numpy as np\n",
    "import pickle"
   ]
  },
  {
   "cell_type": "markdown",
   "id": "0e2553ee",
   "metadata": {},
   "source": [
    "**Manual Input**: Set the path."
   ]
  },
  {
   "cell_type": "code",
   "execution_count": null,
   "id": "cb072304",
   "metadata": {},
   "outputs": [],
   "source": [
    "path='C:/Users/acoub/OneDrive/Desktop/DSDM/Thesis/ChileGov/methodology_blank'\n",
    "sep='/'"
   ]
  },
  {
   "cell_type": "code",
   "execution_count": null,
   "id": "19d70015",
   "metadata": {},
   "outputs": [],
   "source": [
    "path_scripts = path+sep+'initial'\n",
    "path_data= path+sep+'data'"
   ]
  },
  {
   "cell_type": "markdown",
   "id": "d1dfe101",
   "metadata": {},
   "source": [
    "**Manual Input**: List of politicians usernames to search the most popular hashtags.  \n",
    "Alternative: Paste in the data folder one txt file named \"Left_Politicians.txt\" with one username per line for left politicians and the same for right politicians in a file \"Right_Politicians.txt\" "
   ]
  },
  {
   "cell_type": "code",
   "execution_count": null,
   "id": "8e95bd40",
   "metadata": {},
   "outputs": [],
   "source": [
    "left_wing=['rightusername1','rightusername2','rightusername3']\n",
    "right_wing=['leftusername1','leftusername2','leftusername3']"
   ]
  },
  {
   "cell_type": "markdown",
   "id": "600a6d7f",
   "metadata": {},
   "source": [
    "If you added directly the txt file to the folder data, don't run the following cell."
   ]
  },
  {
   "cell_type": "code",
   "execution_count": null,
   "id": "63098d97",
   "metadata": {},
   "outputs": [],
   "source": [
    "with open(path_data+sep+'Left_Politicians.txt', 'w') as f:\n",
    "    for line in left_wing:\n",
    "        f.write(line)\n",
    "        f.write('\\n')\n",
    "        \n",
    "with open(path_data+sep+'Right_Politicians.txt', 'w') as f:\n",
    "    for line in right_wing:\n",
    "        f.write(line)\n",
    "        f.write('\\n')"
   ]
  },
  {
   "cell_type": "markdown",
   "id": "c008b740",
   "metadata": {},
   "source": [
    "**Manual input:** Define the period of time when you want to evaluate the use of hashtags to label Left and Right. We recomend a period when is easy to identificate right wing and left wing people (for instance an electoral period). Format YYYY-MM-DD"
   ]
  },
  {
   "cell_type": "code",
   "execution_count": null,
   "id": "04f1e950",
   "metadata": {},
   "outputs": [],
   "source": [
    "start_date=\"YYYY-MM-DD\"\n",
    "end_date=\"YYYY-MM-DD\""
   ]
  },
  {
   "cell_type": "code",
   "execution_count": null,
   "id": "4438d8f3",
   "metadata": {},
   "outputs": [],
   "source": [
    "filename = path_data+sep+'start_date_for_label.sav'\n",
    "pickle.dump((start_date), open(filename, 'wb'))\n",
    "\n",
    "filename = path_data+sep+'end_date_for_label.sav'\n",
    "pickle.dump((end_date), open(filename, 'wb'))"
   ]
  },
  {
   "cell_type": "markdown",
   "id": "ab9866a4",
   "metadata": {},
   "source": [
    "**Download the tweets**"
   ]
  },
  {
   "cell_type": "code",
   "execution_count": null,
   "id": "7001a6e5",
   "metadata": {},
   "outputs": [],
   "source": [
    "file=path_data+sep+'Left_Politicians.txt'\n",
    "%cd {path_data}\n",
    "! twarc2 timelines --archive --start-time {start_date} --end-time {end_date} {file} left_hashtags.json"
   ]
  },
  {
   "cell_type": "code",
   "execution_count": null,
   "id": "eab480eb",
   "metadata": {},
   "outputs": [],
   "source": [
    "file=path_data+sep+'Right_Politicians.txt'\n",
    "%cd {path_data}\n",
    "! twarc2 timelines --archive --start-time {start_date} --end-time {end_date} {file} right_hashtags.json"
   ]
  },
  {
   "cell_type": "markdown",
   "id": "efdf3743",
   "metadata": {},
   "source": [
    "Run the following cells only after you download the tweets."
   ]
  },
  {
   "cell_type": "code",
   "execution_count": null,
   "id": "49d639c9",
   "metadata": {},
   "outputs": [],
   "source": [
    "converter = DataFrameConverter()\n",
    "data = []\n",
    "with open(path_data+sep+\"left_hashtags.json\") as f:\n",
    "    for line in f:\n",
    "        data.append(json.loads(line))\n",
    "df_left = converter.process(data)"
   ]
  },
  {
   "cell_type": "code",
   "execution_count": null,
   "id": "be0e3c83",
   "metadata": {},
   "outputs": [],
   "source": [
    "def hash_retrieve(df):\n",
    "    \"\"\"\n",
    "    df : dataframe of tweets\n",
    "    Description: \n",
    "        The function takes as an object a df of tweets obtained via twarc and \n",
    "        returns a generator object.\n",
    "    \n",
    "    \"\"\"\n",
    "\n",
    "    for line, id in zip(df['entities.hashtags'], df['id']):\n",
    "        if pd.isna(line):\n",
    "            continue\n",
    "        line = line.strip()\n",
    "        data = json.loads(line)\n",
    "        for hashtag in ensure_flattened(data):\n",
    "            yield [hashtag['tag'], id]"
   ]
  },
  {
   "cell_type": "code",
   "execution_count": null,
   "id": "046074b4",
   "metadata": {},
   "outputs": [],
   "source": [
    "hashtags_df = pd.DataFrame(list(hash_retrieve(df_left)),\n",
    "                 columns=['tweet_hashtags', 'id'])\n",
    "\n",
    "hashtags_df = hashtags_df.groupby('id')['tweet_hashtags'].apply(lambda x: ','.join(x))\n",
    "\n",
    "df_left = df_left.merge(hashtags_df, how='left', left_on='id', right_on='id')\n",
    "df_left['tweet_hashtags']=df_left['tweet_hashtags'].str.lower()"
   ]
  },
  {
   "cell_type": "code",
   "execution_count": null,
   "id": "38bbc011",
   "metadata": {},
   "outputs": [],
   "source": [
    "hasht=[]\n",
    "for i in df_left.index:\n",
    "    try:\n",
    "        hasht.append(df_left['tweet_hashtags'][i].split(\",\"))\n",
    "    except:\n",
    "        hasht.append([])\n",
    "    \n",
    "    \n",
    "df_left['list_hashtags']=hasht"
   ]
  },
  {
   "cell_type": "code",
   "execution_count": null,
   "id": "cbc51d8a",
   "metadata": {},
   "outputs": [],
   "source": [
    "hashtags=[]\n",
    "for i in df_left.index:\n",
    "    hashtags+=df_left['list_hashtags'][i]"
   ]
  },
  {
   "cell_type": "markdown",
   "id": "80e1ce43",
   "metadata": {},
   "source": [
    "**Manual revision:** Review the 100 most popular hashtags for left leaning politician during the selected period."
   ]
  },
  {
   "cell_type": "code",
   "execution_count": null,
   "id": "fc1f8d4e",
   "metadata": {},
   "outputs": [],
   "source": [
    "from collections import Counter\n",
    "count = Counter(hashtags)\n",
    "most_occur = count.most_common(100)\n",
    "  \n",
    "print(most_occur)"
   ]
  },
  {
   "cell_type": "markdown",
   "id": "2051acb0",
   "metadata": {},
   "source": [
    "**Manual input** Decide the list of hashtags to label users. Think in hashtags that clearly identified the user with the left leaning. Don't use the # before the hashtag and use all the characters in lowercase. Max: 15 hashtags."
   ]
  },
  {
   "cell_type": "code",
   "execution_count": null,
   "id": "036e708d",
   "metadata": {},
   "outputs": [],
   "source": [
    "left_hashtags=[\"left_hashtag_1\",\"left_hashtag_2\",\"left_hashtag_3\"]"
   ]
  },
  {
   "cell_type": "code",
   "execution_count": null,
   "id": "a7830e30",
   "metadata": {},
   "outputs": [],
   "source": [
    "converter = DataFrameConverter()\n",
    "data = []\n",
    "with open(path_data+sep+\"right_hashtags.json\") as f:\n",
    "    for line in f:\n",
    "        data.append(json.loads(line))\n",
    "df_right = converter.process(data)"
   ]
  },
  {
   "cell_type": "code",
   "execution_count": null,
   "id": "cfc69a9d",
   "metadata": {},
   "outputs": [],
   "source": [
    "hashtags_df = pd.DataFrame(list(hash_retrieve(df_right)),\n",
    "                 columns=['tweet_hashtags', 'id'])\n",
    "\n",
    "hashtags_df = hashtags_df.groupby('id')['tweet_hashtags'].apply(lambda x: ','.join(x))\n",
    "\n",
    "df_right = df_right.merge(hashtags_df, how='left', left_on='id', right_on='id')\n",
    "\n",
    "df_right['tweet_hashtags']=df_right['tweet_hashtags'].str.lower()"
   ]
  },
  {
   "cell_type": "code",
   "execution_count": null,
   "id": "661b62bb",
   "metadata": {},
   "outputs": [],
   "source": [
    "hasht=[]\n",
    "for i in df_right.index:\n",
    "    try:\n",
    "        hasht.append(df_right['tweet_hashtags'][i].split(\",\"))\n",
    "    except:\n",
    "        hasht.append([])\n",
    "    \n",
    "    \n",
    "df_right['list_hashtags']=hasht"
   ]
  },
  {
   "cell_type": "code",
   "execution_count": null,
   "id": "82e7b1b3",
   "metadata": {},
   "outputs": [],
   "source": [
    "hashtags=[]\n",
    "for i in df_right.index:\n",
    "    hashtags+=df_right['list_hashtags'][i]"
   ]
  },
  {
   "cell_type": "markdown",
   "id": "631f5a82",
   "metadata": {},
   "source": [
    "**Manual revision:** Review the 100 most popular hashtags for right leaning politician during the selected period."
   ]
  },
  {
   "cell_type": "code",
   "execution_count": null,
   "id": "715bd032",
   "metadata": {},
   "outputs": [],
   "source": [
    "from collections import Counter\n",
    "count = Counter(hashtags)\n",
    "  \n",
    "# most_common() produces k frequently encountered\n",
    "# input values and their respective counts.\n",
    "most_occur = count.most_common(100)\n",
    "  \n",
    "print(most_occur)"
   ]
  },
  {
   "cell_type": "markdown",
   "id": "d5ca942b",
   "metadata": {},
   "source": [
    "**Manual input** Decide the list of hashtags to label users. Think in hashtags that clearly identified the user with the right leaning. Don't use the # before the hashtag and use all the characters in lowercase. Max: 15 hashtags."
   ]
  },
  {
   "cell_type": "code",
   "execution_count": null,
   "id": "560aa5c5",
   "metadata": {},
   "outputs": [],
   "source": [
    "right_hashtags=[\"rigth_hashtag_1\",\"right_hashtag_2\",\"right_hashtag_3\"]"
   ]
  },
  {
   "cell_type": "code",
   "execution_count": null,
   "id": "8db59d5d",
   "metadata": {},
   "outputs": [],
   "source": [
    "filename = path_data+sep+'left_hashtags_for_label.sav'\n",
    "pickle.dump((left_hashtags), open(filename, 'wb'))\n",
    "\n",
    "filename = path_data+sep+'right_hashtags_for_label.sav'\n",
    "pickle.dump((right_hashtags), open(filename, 'wb'))"
   ]
  },
  {
   "cell_type": "code",
   "execution_count": null,
   "id": "552ee82b",
   "metadata": {},
   "outputs": [],
   "source": []
  }
 ],
 "metadata": {
  "kernelspec": {
   "display_name": "Python 3",
   "language": "python",
   "name": "python3"
  },
  "language_info": {
   "codemirror_mode": {
    "name": "ipython",
    "version": 3
   },
   "file_extension": ".py",
   "mimetype": "text/x-python",
   "name": "python",
   "nbconvert_exporter": "python",
   "pygments_lexer": "ipython3",
   "version": "3.8.8"
  }
 },
 "nbformat": 4,
 "nbformat_minor": 5
}
