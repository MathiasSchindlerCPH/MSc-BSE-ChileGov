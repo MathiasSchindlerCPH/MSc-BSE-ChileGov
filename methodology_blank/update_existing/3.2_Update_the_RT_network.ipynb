{
 "cells": [
  {
   "cell_type": "code",
   "execution_count": null,
   "id": "8a74f818",
   "metadata": {},
   "outputs": [],
   "source": [
    "import pandas as pd\n",
    "import pickle\n",
    "import networkx as nx"
   ]
  },
  {
   "cell_type": "markdown",
   "id": "456a6d6f",
   "metadata": {},
   "source": [
    "**Manual Input**: Set the path."
   ]
  },
  {
   "cell_type": "code",
   "execution_count": null,
   "id": "985a6e65",
   "metadata": {},
   "outputs": [],
   "source": [
    "path='C:/Users/acoub/OneDrive/Desktop/DSDM/Thesis/ChileGov/methodology_blank'\n",
    "sep='/'"
   ]
  },
  {
   "cell_type": "code",
   "execution_count": null,
   "id": "2764e0b2",
   "metadata": {},
   "outputs": [],
   "source": [
    "path_scripts = path+sep+'update_existing'\n",
    "path_data= path+sep+'data'"
   ]
  },
  {
   "cell_type": "code",
   "execution_count": null,
   "id": "7bf4149a",
   "metadata": {},
   "outputs": [],
   "source": [
    "%cd {path_data}\n",
    "! twarc2 network rt_for_network_upd.json --format csv network_upd.csv --edges retweet"
   ]
  },
  {
   "cell_type": "code",
   "execution_count": null,
   "id": "44cd32a6",
   "metadata": {},
   "outputs": [],
   "source": [
    "edges=pd.read_csv(path_data+sep+\"network_upd.csv\",header=None)\n",
    "edges.head()"
   ]
  },
  {
   "cell_type": "code",
   "execution_count": null,
   "id": "0e881915",
   "metadata": {},
   "outputs": [],
   "source": [
    "edges.columns=['retweeted_by','original_author','weight','rts']\n",
    "edges['len']=edges['weight'].str.len()"
   ]
  },
  {
   "cell_type": "code",
   "execution_count": null,
   "id": "69f57d54",
   "metadata": {},
   "outputs": [],
   "source": [
    "# Given that the weight comes in a string format, we should extract only the digits, depending on the long of the string we know how many characters we should extract\n",
    "sub_edges=[]\n",
    "for lon in range(edges['len'].min(),edges['len'].max()+1):\n",
    "    sub_edges.append(edges[edges.len==lon])"
   ]
  },
  {
   "cell_type": "code",
   "execution_count": null,
   "id": "29039bb2",
   "metadata": {},
   "outputs": [],
   "source": [
    "numb=[]\n",
    "for i in range(0,len(sub_edges)):\n",
    "    numb.append(-i-1)\n",
    "for df,j in zip(sub_edges,numb):\n",
    "    weights=df['weight'].str[j:]\n",
    "    df['weight']=weights\n",
    "    df['weight']=df['weight'].astype(int)"
   ]
  },
  {
   "cell_type": "code",
   "execution_count": null,
   "id": "1d2cf98f",
   "metadata": {},
   "outputs": [],
   "source": [
    "edges=pd.concat(sub_edges)\n",
    "edges=edges.drop(['rts','len'],axis=1)"
   ]
  },
  {
   "cell_type": "code",
   "execution_count": null,
   "id": "a1d0f11e",
   "metadata": {},
   "outputs": [],
   "source": [
    "edges.head()"
   ]
  },
  {
   "cell_type": "code",
   "execution_count": null,
   "id": "89a2a089",
   "metadata": {},
   "outputs": [],
   "source": [
    "#Eliminating self retweets.\n",
    "edges=edges[edges.retweeted_by!=edges.original_author]"
   ]
  },
  {
   "cell_type": "code",
   "execution_count": null,
   "id": "f85a72fb",
   "metadata": {},
   "outputs": [],
   "source": [
    "file = path_data+sep+'final_data_set.sav'\n",
    "df = pickle.load(open(file, 'rb'))\n",
    "authors=list(df['author.username'])\n",
    "authors = list(set(authors))\n",
    "\n",
    "\n",
    "file = path_data+sep+'labeled_users.sav'\n",
    "labels=pickle.load(open(file, 'rb'))\n",
    "\n",
    "filename = path_data+sep+'new_authors.sav'\n",
    "new_authors=pickle.load(open(filename, 'rb'))"
   ]
  },
  {
   "cell_type": "code",
   "execution_count": null,
   "id": "17e40e02",
   "metadata": {},
   "outputs": [],
   "source": [
    "authors_with_label=pd.DataFrame()\n",
    "authors_with_label['author.username']=new_authors\n",
    "authors_with_label=authors_with_label.merge(labels[['author.username','Label']],on='author.username',how='left')\n",
    "authors_with_label['Label']=authors_with_label['Label'].fillna(\"Unlabeled\")\n",
    "authors_with_label['Label'].value_counts()"
   ]
  },
  {
   "cell_type": "markdown",
   "id": "73c95176",
   "metadata": {},
   "source": [
    "### Updating the network"
   ]
  },
  {
   "cell_type": "code",
   "execution_count": null,
   "id": "cc79508d",
   "metadata": {},
   "outputs": [],
   "source": [
    "filename = path_data+sep+'complete_network.sav'\n",
    "total_G=pickle.load(open(filename, 'rb'))\n",
    "\n",
    "left_authors=list(authors_with_label[authors_with_label.Label==\"Left\"]['author.username'])\n",
    "right_authors=list(authors_with_label[authors_with_label.Label==\"Right\"]['author.username'])\n",
    "unlabeled_authors=list(authors_with_label[authors_with_label.Label==\"Unlabeled\"]['author.username'])"
   ]
  },
  {
   "cell_type": "code",
   "execution_count": null,
   "id": "117360f3",
   "metadata": {},
   "outputs": [],
   "source": [
    "total_G.add_nodes_from(left_authors, af=\"Left\")\n",
    "total_G.add_nodes_from(right_authors, af=\"Right\")\n",
    "total_G.add_nodes_from(unlabeled_authors, af=\"Unlabeled\")"
   ]
  },
  {
   "cell_type": "code",
   "execution_count": null,
   "id": "044f9d6c",
   "metadata": {},
   "outputs": [],
   "source": [
    "for i in edges.index:\n",
    "    if edges['retweeted_by'][i] in authors and edges['original_author'][i] in authors:\n",
    "        total_G.add_edge(edges['retweeted_by'][i],edges['original_author'][i],weight=edges['weight'][i])"
   ]
  },
  {
   "cell_type": "code",
   "execution_count": null,
   "id": "41859481",
   "metadata": {},
   "outputs": [],
   "source": [
    "#Export the updated network\n",
    "filename = path_data+sep+'complete_network.sav'\n",
    "pickle.dump((total_G), open(filename, 'wb'))"
   ]
  },
  {
   "cell_type": "code",
   "execution_count": null,
   "id": "e2dfa4f5",
   "metadata": {},
   "outputs": [],
   "source": []
  }
 ],
 "metadata": {
  "kernelspec": {
   "display_name": "Python 3",
   "language": "python",
   "name": "python3"
  },
  "language_info": {
   "codemirror_mode": {
    "name": "ipython",
    "version": 3
   },
   "file_extension": ".py",
   "mimetype": "text/x-python",
   "name": "python",
   "nbconvert_exporter": "python",
   "pygments_lexer": "ipython3",
   "version": "3.8.8"
  }
 },
 "nbformat": 4,
 "nbformat_minor": 5
}
