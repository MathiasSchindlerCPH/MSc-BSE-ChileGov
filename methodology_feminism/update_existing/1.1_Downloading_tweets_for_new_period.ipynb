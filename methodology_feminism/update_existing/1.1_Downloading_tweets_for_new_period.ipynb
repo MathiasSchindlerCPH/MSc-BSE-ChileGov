{
 "cells": [
  {
   "cell_type": "code",
   "execution_count": 1,
   "id": "60b386fd",
   "metadata": {},
   "outputs": [],
   "source": [
    "import json\n",
    "from twarc_csv import DataFrameConverter\n",
    "from twarc.expansions import ensure_flattened\n",
    "import pandas as pd\n",
    "from twarc_csv import dataframe_converter\n",
    "from twarc_csv import CSVConverter, DataFrameConverter\n",
    "import math\n",
    "import emoji\n",
    "from operator import itemgetter\n",
    "import matplotlib.pyplot as plt\n",
    "from datetime import datetime\n",
    "from datetime import timedelta\n",
    "from advertools import extract_emoji\n",
    "import numpy as np\n",
    "import pickle"
   ]
  },
  {
   "cell_type": "markdown",
   "id": "1ab6be53",
   "metadata": {},
   "source": [
    "**Manual Input**: Set the path."
   ]
  },
  {
   "cell_type": "code",
   "execution_count": 2,
   "id": "4b2d6d1f",
   "metadata": {},
   "outputs": [],
   "source": [
    "path='C:/Users/acoub/OneDrive/Desktop/DSDM/Thesis/ChileGov/methodology_feminism'\n",
    "sep='/'"
   ]
  },
  {
   "cell_type": "code",
   "execution_count": 3,
   "id": "cf949fe4",
   "metadata": {},
   "outputs": [],
   "source": [
    "path_scripts = path+sep+'update_existing'\n",
    "path_data= path+sep+'data'"
   ]
  },
  {
   "cell_type": "markdown",
   "id": "7d939e57",
   "metadata": {},
   "source": [
    "**Manual Input**: Set the start and end date for the upload."
   ]
  },
  {
   "cell_type": "code",
   "execution_count": 4,
   "id": "f4d82bdb",
   "metadata": {},
   "outputs": [],
   "source": [
    "start_date=\"2022-03-12\"\n",
    "end_date=\"2022-03-14\""
   ]
  },
  {
   "cell_type": "code",
   "execution_count": 5,
   "id": "4eaf221c",
   "metadata": {},
   "outputs": [],
   "source": [
    "filename = path_data+sep+'start_update_date.sav'\n",
    "pickle.dump((start_date), open(filename, 'wb'))\n",
    "\n",
    "filename = path_data+sep+'end_update_date.sav'\n",
    "pickle.dump((end_date), open(filename, 'wb'))"
   ]
  },
  {
   "cell_type": "code",
   "execution_count": 6,
   "id": "feb5dff6",
   "metadata": {},
   "outputs": [],
   "source": [
    "file = path_data+sep+'keywords.sav'\n",
    "list_of_words=pickle.load(open(file, 'rb'))\n",
    "\n",
    "file = path_data+sep+'country_string.sav'\n",
    "str_country=pickle.load(open(file, 'rb'))"
   ]
  },
  {
   "cell_type": "code",
   "execution_count": 7,
   "id": "b01c8683",
   "metadata": {},
   "outputs": [],
   "source": [
    "query=\"\"\n",
    "for word in list_of_words:\n",
    "    query+= word + \" OR \"\n",
    "query=query[:len(query)-4]\n",
    "\n",
    "query_place=\"(\"+query+\")\"+ \" -is:retweet place_country:CL\"\n",
    "query_wrelated=\"(\"+query+\")\"+ str_country + \" -is:retweet\""
   ]
  },
  {
   "cell_type": "code",
   "execution_count": 8,
   "id": "4f8b2ef0",
   "metadata": {},
   "outputs": [],
   "source": [
    "with open(path_data+sep+\"search_1_updating.txt\", 'w') as f:\n",
    "    f.write(query_place)\n",
    "    f.write(\"\\n\")\n",
    "    f.write(query_wrelated)"
   ]
  },
  {
   "cell_type": "markdown",
   "id": "7bf01629",
   "metadata": {},
   "source": [
    "**Manual revision:** Run the following two cells to know the total number of tweets to download and see if does not exceed the limit of your twarc acount. If is OK run also the next cell."
   ]
  },
  {
   "cell_type": "code",
   "execution_count": 9,
   "id": "c1efcc74",
   "metadata": {},
   "outputs": [
    {
     "name": "stdout",
     "output_type": "stream",
     "text": [
      "C:\\Users\\acoub\\OneDrive\\Desktop\\DSDM\\Thesis\\Methodology\\data\n"
     ]
    },
    {
     "name": "stderr",
     "output_type": "stream",
     "text": [
      "\n",
      "  0%|          | Processed 0/2 lines of input file [00:00<?, ?it/s]\n",
      "100%|##########| Processed 2/2 lines of input file [00:01<00:00,  1.47it/s]\n",
      "100%|##########| Processed 2/2 lines of input file [00:02<00:00,  1.37s/it]\n"
     ]
    }
   ],
   "source": [
    "file=path_data+sep+\"search_1_updating.txt\"\n",
    "%cd {path_data}\n",
    "! twarc2 searches --archive --counts-only --granularity day --start-time {start_date} --end-time {end_date} {file} search_updating_count.csv"
   ]
  },
  {
   "cell_type": "code",
   "execution_count": 10,
   "id": "26700b65",
   "metadata": {},
   "outputs": [
    {
     "name": "stdout",
     "output_type": "stream",
     "text": [
      "Tweets to download: 962\n"
     ]
    }
   ],
   "source": [
    "count=pd.read_csv(path_data+sep+'search_updating_count.csv',encoding = \"ISO-8859-1\")\n",
    "print(\"Tweets to download: \"+str(count['day_count'].sum()))"
   ]
  },
  {
   "cell_type": "markdown",
   "id": "d4e5305f",
   "metadata": {},
   "source": [
    "**Download the tweets:** (Only if you have enought limit in your twarc account)"
   ]
  },
  {
   "cell_type": "code",
   "execution_count": 11,
   "id": "8b66f034",
   "metadata": {},
   "outputs": [
    {
     "name": "stdout",
     "output_type": "stream",
     "text": [
      "C:\\Users\\acoub\\OneDrive\\Desktop\\DSDM\\Thesis\\Methodology\\data\n"
     ]
    },
    {
     "name": "stderr",
     "output_type": "stream",
     "text": [
      "\n",
      "  0%|          | Processed 0/2 lines of input file [00:00<?, ?it/s]\n",
      "100%|##########| Processed 2/2 lines of input file [00:02<00:00,  1.23s/it]\n",
      "100%|##########| Processed 2/2 lines of input file [00:24<00:00, 12.22s/it]\n"
     ]
    }
   ],
   "source": [
    "%cd {path_data}\n",
    "! twarc2 searches --archive --start-time {start_date} --end-time {end_date} {file} search_1_uploading.json"
   ]
  },
  {
   "cell_type": "code",
   "execution_count": null,
   "id": "c4514268",
   "metadata": {},
   "outputs": [],
   "source": []
  }
 ],
 "metadata": {
  "kernelspec": {
   "display_name": "Python 3",
   "language": "python",
   "name": "python3"
  },
  "language_info": {
   "codemirror_mode": {
    "name": "ipython",
    "version": 3
   },
   "file_extension": ".py",
   "mimetype": "text/x-python",
   "name": "python",
   "nbconvert_exporter": "python",
   "pygments_lexer": "ipython3",
   "version": "3.8.8"
  }
 },
 "nbformat": 4,
 "nbformat_minor": 5
}
