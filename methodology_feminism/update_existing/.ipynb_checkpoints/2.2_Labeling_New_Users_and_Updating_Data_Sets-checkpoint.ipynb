{
 "cells": [
  {
   "cell_type": "code",
   "execution_count": 1,
   "id": "722ae6c8",
   "metadata": {},
   "outputs": [],
   "source": [
    "from twarc_csv import DataFrameConverter\n",
    "from twarc.expansions import ensure_flattened\n",
    "import pandas as pd\n",
    "from twarc_csv import dataframe_converter\n",
    "from twarc_csv import CSVConverter, DataFrameConverter\n",
    "import matplotlib.pyplot as plt\n",
    "from datetime import datetime\n",
    "from datetime import timedelta\n",
    "import numpy as np\n",
    "import pickle\n",
    "import json\n",
    "import random"
   ]
  },
  {
   "cell_type": "markdown",
   "id": "18ead8de",
   "metadata": {},
   "source": [
    "**Manual Input**: Set the path."
   ]
  },
  {
   "cell_type": "code",
   "execution_count": 2,
   "id": "2c9bb792",
   "metadata": {},
   "outputs": [],
   "source": [
    "path='C:/Users/acoub/OneDrive/Desktop/DSDM/Thesis/ChileGov/methodology_feminism'\n",
    "sep='/'"
   ]
  },
  {
   "cell_type": "code",
   "execution_count": 3,
   "id": "210d71bc",
   "metadata": {},
   "outputs": [],
   "source": [
    "path_scripts = path+sep+'update_existing'\n",
    "path_data= path+sep+'data'"
   ]
  },
  {
   "cell_type": "code",
   "execution_count": 4,
   "id": "bf38a5fe",
   "metadata": {},
   "outputs": [],
   "source": [
    "converter = DataFrameConverter()\n",
    "data = []\n",
    "with open(path_data+sep+\"up_right_left_hashtags.json\") as f:\n",
    "    for line in f:\n",
    "        data.append(json.loads(line))\n",
    "df = converter.process(data)"
   ]
  },
  {
   "cell_type": "code",
   "execution_count": 5,
   "id": "f393272e",
   "metadata": {},
   "outputs": [
    {
     "name": "stdout",
     "output_type": "stream",
     "text": [
      "192\n"
     ]
    }
   ],
   "source": [
    "authors=list(df['author.username'])\n",
    "authors = list(set(authors))\n",
    "print(len(authors))"
   ]
  },
  {
   "cell_type": "code",
   "execution_count": 6,
   "id": "43461a2e",
   "metadata": {},
   "outputs": [],
   "source": [
    "def hash_retrieve(df):\n",
    "    \"\"\"\n",
    "    df : dataframe of tweets\n",
    "    Description: \n",
    "        The function takes as an object a df of tweets obtained via twarc and \n",
    "        returns a generator object.\n",
    "    \n",
    "    \"\"\"\n",
    "\n",
    "    for line, id in zip(df['entities.hashtags'], df['id']):\n",
    "        if pd.isna(line):\n",
    "            continue\n",
    "        line = line.strip()\n",
    "        data = json.loads(line)\n",
    "        for hashtag in ensure_flattened(data):\n",
    "            yield [hashtag['tag'], id]"
   ]
  },
  {
   "cell_type": "code",
   "execution_count": 7,
   "id": "d3bdab2f",
   "metadata": {},
   "outputs": [],
   "source": [
    "hashtags_df = pd.DataFrame(list(hash_retrieve(df)),\n",
    "                 columns=['tweet_hashtags', 'id'])\n",
    "\n",
    "hashtags_df = hashtags_df.groupby('id')['tweet_hashtags'].apply(lambda x: ','.join(x))\n",
    "df = df.merge(hashtags_df, how='left', left_on='id', right_on='id')\n",
    "df['tweet_hashtags']=df['tweet_hashtags'].str.lower()\n",
    "\n",
    "hasht=[]\n",
    "for i in df.index:\n",
    "    try:\n",
    "        hasht.append(df['tweet_hashtags'][i].split(\",\"))\n",
    "    except:\n",
    "        hasht.append([])\n",
    "    \n",
    "    \n",
    "df['list_hashtags']=hasht\n",
    "\n",
    "hashtags=[]\n",
    "for i in df.index:\n",
    "    hashtags+=list(df['list_hashtags'][i])"
   ]
  },
  {
   "cell_type": "code",
   "execution_count": 8,
   "id": "74d71180",
   "metadata": {},
   "outputs": [
    {
     "name": "stdout",
     "output_type": "stream",
     "text": [
      "[('kastpresidente2022', 4566), ('boricpresidente', 2250), ('chilevotakast', 1648), ('kastledaesperanzaachile', 1623), ('atreveteconkast', 1609), ('kastpresidente', 1058), ('todochileconkast', 1057), ('boricpresidentedechile', 834), ('boricpresidente2022', 829), ('vota2votakast', 730), ('mujeresporkast', 669), ('boricpresidentedechile2022', 546), ('seguimos', 503), ('debateanatel', 494), ('atreveteporchile', 420), ('kast', 394), ('kastenprimeravuelta', 378), ('chile', 355), ('todochilevotakast', 351), ('boricnosune', 340), ('votakast', 308), ('lascarasdelamoneda', 307), ('atrevidos', 291), ('debatepresidencial2021', 271), ('boricenprimeravuelta', 259), ('meunoconboric', 249), ('boric', 246), ('elecciones2021cl', 236), ('ahorayasna', 236), ('kastlalleva', 214), ('kastesperanzaparachile', 203), ('sichelpresidente', 199), ('kast2022', 196), ('boricmiente', 192), ('sepuede', 190), ('borichambreymiseriaparachile', 188), ('fiestadelosatrevidos', 185), ('atrevidosporkast', 183), ('rutaesperanzaxboric', 182), ('kastocomunismo', 180), ('debateanatel2021', 170), ('vota1', 165), ('boricnoselapuede', 161), ('boricescomunista', 155), ('todosconboric', 150), ('fueracomunistasdechile', 145), ('kastinamericaboricencaracas', 131), ('chileflorececonkast', 126), ('kastsalvaráachile', 126), ('losbotsvotamos', 125), ('vota2', 124), ('atreveteporkast', 121), ('nosunimosonoshundimos', 118), ('kastsalvarachile', 117), ('boricmienteysenota', 114), ('todoskast', 113), ('kastesuncampeon', 112), ('boricnoseatrevedebatir', 111), ('apruebodignidad', 110), ('gabrielnosune', 106), ('votapazvotakast', 105), ('eleccioneschile2021', 100), ('banderazoporkast', 97), ('candidatollegotuhora', 97), ('franjaelectoral', 96), ('kastpresidentedechile2022', 95), ('elvolteretas', 95), ('unmillondepuertasxboric', 95), ('1millondepuertasxboric', 91), ('boriccandidatodelpc', 91), ('paravivirmejor', 87), ('lafiestadechile', 83), ('boricacosador', 82), ('contigochv', 81), ('boricdestruyetodo', 80), ('boricacosamujeres', 79), ('borichambreparachile', 78), ('consichelsepuede', 78), ('chilesincomunismo', 77), ('cadem', 76), ('sichelhizotrampa', 75), ('elmecherohizotrampa', 70), ('tuvotosalvaachile', 69), ('debatearchi', 68), ('mesacentral', 66), ('votafrentesocialcristiano', 66), ('boricparavivirmejor', 65), ('kastnosevende', 65), ('uncongresoparakast', 65), ('izquierdamiserable', 63), ('kastmiente', 62), ('boricexpropia', 59), ('atrevidosporlateleton', 59), ('soloquedakast', 59), ('kastvaporlapaz', 57), ('yovotokast', 55), ('antofagasta', 55), ('atréveteconkast', 53), ('abajoelcomunismo', 52), ('elcifras', 52)]\n"
     ]
    }
   ],
   "source": [
    "from collections import Counter\n",
    "count = Counter(hashtags)\n",
    "  \n",
    "most_occur = count.most_common(100)\n",
    "  \n",
    "print(most_occur)"
   ]
  },
  {
   "cell_type": "markdown",
   "id": "46e2dc8f",
   "metadata": {},
   "source": [
    "### Count the number of left and right hashtgas per user"
   ]
  },
  {
   "cell_type": "code",
   "execution_count": 9,
   "id": "c2918825",
   "metadata": {},
   "outputs": [],
   "source": [
    "file = path_data+sep+'left_hashtags_for_label.sav'\n",
    "left_hashtags = pickle.load(open(file, 'rb'))\n",
    "\n",
    "file = path_data+sep+'right_hashtags_for_label.sav'\n",
    "right_hashtags = pickle.load(open(file, 'rb'))"
   ]
  },
  {
   "cell_type": "code",
   "execution_count": 10,
   "id": "33a0eabf",
   "metadata": {},
   "outputs": [],
   "source": [
    "# For each left hashtags we put a 1 to each tweet that use this hashtag\n",
    "for hashtag in left_hashtags:\n",
    "    df_hash=pd.DataFrame()\n",
    "    df_hash=df.dropna(subset=['tweet_hashtags']).copy()\n",
    "    df_hash=df_hash[df_hash.tweet_hashtags.str.contains(hashtag)]\n",
    "    df_hash['count_left_'+str(hashtag)]=1\n",
    "    df=df.merge(df_hash[['id','count_left_'+str(hashtag)]],how=\"left\",on=\"id\")"
   ]
  },
  {
   "cell_type": "code",
   "execution_count": 11,
   "id": "34f600b5",
   "metadata": {},
   "outputs": [],
   "source": [
    "# We sum for all the hashtags.\n",
    "df['count_left']=0\n",
    "for hashtag in left_hashtags:\n",
    "    try:\n",
    "        df[['count_left_'+str(hashtag)]]=df[['count_left_'+str(hashtag)]].fillna(0)\n",
    "        df['count_left']+=df['count_left_'+str(hashtag)]\n",
    "    except:\n",
    "        print(\"No use of hashtag: \" + hashtag)"
   ]
  },
  {
   "cell_type": "code",
   "execution_count": 12,
   "id": "ba730740",
   "metadata": {},
   "outputs": [],
   "source": [
    "# Doing the same for right hashtags\n",
    "for hashtag in right_hashtags:\n",
    "    df_hash=pd.DataFrame()\n",
    "    df_hash=df.dropna(subset=['tweet_hashtags']).copy()\n",
    "    df_hash=df_hash[df_hash.tweet_hashtags.str.contains(hashtag)]\n",
    "    df_hash['count_right_'+str(hashtag)]=1\n",
    "    df=df.merge(df_hash[['id','count_right_'+str(hashtag)]],how=\"left\",on=\"id\")"
   ]
  },
  {
   "cell_type": "code",
   "execution_count": 13,
   "id": "cd660baa",
   "metadata": {},
   "outputs": [],
   "source": [
    "df['count_right']=0\n",
    "for hashtag in right_hashtags:\n",
    "    try:\n",
    "        df[['count_right_'+str(hashtag)]]=df[['count_right_'+str(hashtag)]].fillna(0)\n",
    "        df['count_right']+=df['count_right_'+str(hashtag)]\n",
    "    except:\n",
    "        print(\"No use of hashtag: \" + hashtag)"
   ]
  },
  {
   "cell_type": "code",
   "execution_count": 14,
   "id": "a36a1333",
   "metadata": {},
   "outputs": [],
   "source": [
    "# Now we group by author, to know all the hashtags that each user used.\n",
    "hashtags_per_author=df[['author.username','count_right','count_left']].groupby('author.username').sum()"
   ]
  },
  {
   "cell_type": "code",
   "execution_count": 15,
   "id": "6bd87d44",
   "metadata": {},
   "outputs": [
    {
     "data": {
      "image/png": "[encoded data removed]",
      "text/plain": [
       "<Figure size 432x288 with 2 Axes>"
      ]
     },
     "metadata": {
      "needs_background": "light"
     },
     "output_type": "display_data"
    }
   ],
   "source": [
    "hashtags_per_author.hist();"
   ]
  },
  {
   "cell_type": "markdown",
   "id": "130f0f20",
   "metadata": {},
   "source": [
    "### Labeling users"
   ]
  },
  {
   "cell_type": "code",
   "execution_count": 16,
   "id": "b363c0aa",
   "metadata": {},
   "outputs": [],
   "source": [
    "# We compute the % of right and left hashtags per user\n",
    "hashtags_per_author['percentage_right']=hashtags_per_author['count_right'].astype(float)/(hashtags_per_author['count_right'].astype(float)+hashtags_per_author['count_left'].astype(float))\n",
    "hashtags_per_author['percentage_left']=hashtags_per_author['count_left'].astype(float)/(hashtags_per_author['count_right'].astype(float)+hashtags_per_author['count_left'].astype(float))"
   ]
  },
  {
   "cell_type": "markdown",
   "id": "e3ab98b8",
   "metadata": {},
   "source": [
    "To label user we define thresholds. More than 40 hashtags for the affiliation and also over 80% of hashtags of this affiliation.\n",
    "  \n",
    "**Manual input:** You can change this threshold depending on how strict do you want to be with the criterium. Higher threshold produce less authors with labels, but more sure that the labels are correct. The proportion have to be higher than 0.5."
   ]
  },
  {
   "cell_type": "code",
   "execution_count": 17,
   "id": "32642b9e",
   "metadata": {},
   "outputs": [],
   "source": [
    "number_threshold=40\n",
    "proportion_threshold=0.8"
   ]
  },
  {
   "cell_type": "code",
   "execution_count": 18,
   "id": "814338ff",
   "metadata": {},
   "outputs": [
    {
     "name": "stderr",
     "output_type": "stream",
     "text": [
      "<ipython-input-18-70f4d096c652>:2: SettingWithCopyWarning: \n",
      "A value is trying to be set on a copy of a slice from a DataFrame\n",
      "\n",
      "See the caveats in the documentation: https://pandas.pydata.org/pandas-docs/stable/user_guide/indexing.html#returning-a-view-versus-a-copy\n",
      "  hashtags_per_author['Label'][(hashtags_per_author.percentage_right>proportion_threshold)&(hashtags_per_author.count_right>number_threshold)]=\"Right\"\n",
      "<ipython-input-18-70f4d096c652>:3: SettingWithCopyWarning: \n",
      "A value is trying to be set on a copy of a slice from a DataFrame\n",
      "\n",
      "See the caveats in the documentation: https://pandas.pydata.org/pandas-docs/stable/user_guide/indexing.html#returning-a-view-versus-a-copy\n",
      "  hashtags_per_author['Label'][(hashtags_per_author.percentage_left>proportion_threshold)&(hashtags_per_author.count_left>number_threshold)]=\"Left\"\n"
     ]
    }
   ],
   "source": [
    "hashtags_per_author['Label']=\"None\"\n",
    "hashtags_per_author['Label'][(hashtags_per_author.percentage_right>proportion_threshold)&(hashtags_per_author.count_right>number_threshold)]=\"Right\"\n",
    "hashtags_per_author['Label'][(hashtags_per_author.percentage_left>proportion_threshold)&(hashtags_per_author.count_left>number_threshold)]=\"Left\""
   ]
  },
  {
   "cell_type": "code",
   "execution_count": 19,
   "id": "1ed9119d",
   "metadata": {},
   "outputs": [
    {
     "data": {
      "text/plain": [
       "None     111\n",
       "Right     46\n",
       "Left      35\n",
       "Name: Label, dtype: int64"
      ]
     },
     "execution_count": 19,
     "metadata": {},
     "output_type": "execute_result"
    }
   ],
   "source": [
    "hashtags_per_author['Label'].value_counts()"
   ]
  },
  {
   "cell_type": "code",
   "execution_count": 20,
   "id": "1dbc1c8d",
   "metadata": {},
   "outputs": [],
   "source": [
    "# Here we merge with the original data set to review a random sample of tweets\n",
    "df=df.merge(hashtags_per_author[[\"Label\"]],how=\"left\",on=\"author.username\")"
   ]
  },
  {
   "cell_type": "markdown",
   "id": "405803ef",
   "metadata": {},
   "source": [
    "### Review a random sample of right and left tweets"
   ]
  },
  {
   "cell_type": "markdown",
   "id": "96de77fb",
   "metadata": {},
   "source": [
    "**Manual revision:** Here you can review a random sample of tweets during the electoral campaign for users label as right and left to have an idea of the accuracy. If a significant number of tweets looks bad labeled, we recomend to increase the previous thresholds.\n",
    "  \n",
    "First cell is random revision for right wing and second cell is random revision for left wing."
   ]
  },
  {
   "cell_type": "code",
   "execution_count": null,
   "id": "f3c5b704",
   "metadata": {},
   "outputs": [],
   "source": [
    "import random\n",
    "df_right=df[df.Label==\"Right\"]\n",
    "number_of_tweets=40\n",
    "indexes=list(df_right.index)\n",
    "for i in range(0,number_of_tweets): \n",
    "    a=random.choice(indexes)\n",
    "    print(df_right['text'][a])\n",
    "    print(\"\")\n",
    "    indexes.remove(a)"
   ]
  },
  {
   "cell_type": "code",
   "execution_count": null,
   "id": "cd84586e",
   "metadata": {},
   "outputs": [],
   "source": [
    "df_left=df[df.Label==\"Left\"]\n",
    "number_of_tweets=40\n",
    "indexes=list(df_left.index)\n",
    "for i in range(0,number_of_tweets): \n",
    "    a=random.choice(indexes)\n",
    "    print(df_left['text'][a])\n",
    "    print(df_left['author.username'][a])\n",
    "    print(\"\")\n",
    "    indexes.remove(a)"
   ]
  },
  {
   "cell_type": "code",
   "execution_count": 23,
   "id": "1382d031",
   "metadata": {},
   "outputs": [],
   "source": [
    "# We create a data set only with the labels\n",
    "final_df_with_label=pd.DataFrame()\n",
    "filtered_df=hashtags_per_author[(hashtags_per_author.Label==\"Left\")|(hashtags_per_author.Label==\"Right\")]\n",
    "final_df_with_label['author.username']=filtered_df.index\n",
    "final_df_with_label['Label']=list(filtered_df['Label'])"
   ]
  },
  {
   "cell_type": "code",
   "execution_count": 24,
   "id": "398d959a",
   "metadata": {},
   "outputs": [
    {
     "data": {
      "text/plain": [
       "Right    46\n",
       "Left     35\n",
       "Name: Label, dtype: int64"
      ]
     },
     "execution_count": 24,
     "metadata": {},
     "output_type": "execute_result"
    }
   ],
   "source": [
    "final_df_with_label['Label'].value_counts()"
   ]
  },
  {
   "cell_type": "code",
   "execution_count": 25,
   "id": "9b3f1b88",
   "metadata": {},
   "outputs": [],
   "source": [
    "#Updating the label data set.\n",
    "file = path_data+sep+'labeled_users.sav'\n",
    "old_labeled=pickle.load(open(file, 'rb'))"
   ]
  },
  {
   "cell_type": "code",
   "execution_count": 26,
   "id": "4e7dd0b9",
   "metadata": {},
   "outputs": [],
   "source": [
    "all_labeled=pd.concat([old_labeled,final_df_with_label])\n",
    "all_labeled=all_labeled.reset_index()"
   ]
  },
  {
   "cell_type": "code",
   "execution_count": 27,
   "id": "7b8d01b2",
   "metadata": {},
   "outputs": [],
   "source": [
    "filename = path_data+sep+'labeled_users.sav'\n",
    "pickle.dump((all_labeled), open(filename, 'wb'))"
   ]
  },
  {
   "cell_type": "code",
   "execution_count": 28,
   "id": "dfb00110",
   "metadata": {},
   "outputs": [],
   "source": [
    "#Updating our final corpus.\n",
    "file = path_data+sep+'final_data_set.sav'\n",
    "df_old = pickle.load(open(file, 'rb'))\n",
    "\n",
    "file = path_data+sep+'final_data_set_update.sav'\n",
    "df_update = pickle.load(open(file, 'rb'))"
   ]
  },
  {
   "cell_type": "code",
   "execution_count": 29,
   "id": "2175cc9c",
   "metadata": {},
   "outputs": [],
   "source": [
    "df_update=df_update.merge(all_labeled[['Label','author.username']],how='left',on='author.username')\n",
    "df_update['Label']=df_update['Label'].fillna(\"Unlabeled\")"
   ]
  },
  {
   "cell_type": "code",
   "execution_count": 30,
   "id": "02a66b55",
   "metadata": {},
   "outputs": [],
   "source": [
    "df_final= pd.concat([df_old,df_update])\n",
    "df_final=df_final.reset_index()"
   ]
  },
  {
   "cell_type": "code",
   "execution_count": 31,
   "id": "d3f171ab",
   "metadata": {},
   "outputs": [],
   "source": [
    "filename = path_data+sep+'final_data_set.sav'\n",
    "pickle.dump((df_final), open(filename, 'wb'))"
   ]
  },
  {
   "cell_type": "code",
   "execution_count": null,
   "id": "1f35b02d",
   "metadata": {},
   "outputs": [],
   "source": []
  }
 ],
 "metadata": {
  "kernelspec": {
   "display_name": "Python 3 (ipykernel)",
   "language": "python",
   "name": "python3"
  },
  "language_info": {
   "codemirror_mode": {
    "name": "ipython",
    "version": 3
   },
   "file_extension": ".py",
   "mimetype": "text/x-python",
   "name": "python",
   "nbconvert_exporter": "python",
   "pygments_lexer": "ipython3",
   "version": "3.10.4"
  },
  "toc": {
   "base_numbering": 1,
   "nav_menu": {},
   "number_sections": false,
   "sideBar": true,
   "skip_h1_title": false,
   "title_cell": "Table of Contents",
   "title_sidebar": "Contents",
   "toc_cell": false,
   "toc_position": {},
   "toc_section_display": true,
   "toc_window_display": false
  }
 },
 "nbformat": 4,
 "nbformat_minor": 5
}
