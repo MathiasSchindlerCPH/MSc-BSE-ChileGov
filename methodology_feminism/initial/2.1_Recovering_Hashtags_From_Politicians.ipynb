{
 "cells": [
  {
   "cell_type": "code",
   "execution_count": 1,
   "id": "598c254e",
   "metadata": {},
   "outputs": [],
   "source": [
    "import json\n",
    "from twarc_csv import DataFrameConverter\n",
    "from twarc.expansions import ensure_flattened\n",
    "import pandas as pd\n",
    "from twarc_csv import dataframe_converter\n",
    "from twarc_csv import CSVConverter, DataFrameConverter\n",
    "import math\n",
    "import emoji\n",
    "from operator import itemgetter\n",
    "import matplotlib.pyplot as plt\n",
    "from datetime import datetime\n",
    "from datetime import timedelta\n",
    "from advertools import extract_emoji\n",
    "import numpy as np\n",
    "import pickle"
   ]
  },
  {
   "cell_type": "markdown",
   "id": "0e2553ee",
   "metadata": {},
   "source": [
    "**Manual Input**: Set the path."
   ]
  },
  {
   "cell_type": "code",
   "execution_count": 2,
   "id": "cb072304",
   "metadata": {},
   "outputs": [],
   "source": [
    "path='C:/Users/acoub/OneDrive/Desktop/DSDM/Thesis/ChileGov/methodology_feminism'\n",
    "sep='/'"
   ]
  },
  {
   "cell_type": "code",
   "execution_count": 3,
   "id": "19d70015",
   "metadata": {},
   "outputs": [],
   "source": [
    "path_scripts = path+sep+'initial'\n",
    "path_data= path+sep+'data'"
   ]
  },
  {
   "cell_type": "markdown",
   "id": "d1dfe101",
   "metadata": {},
   "source": [
    "**Manual Input**: List of politicians usernames to search the most popular hashtags.  \n",
    "Alternative: Paste in the data folder one txt file named \"Left_Politicians.txt\" with one username per line for left politicians and the same for right politicians in a file \"Right_Politicians.txt\" "
   ]
  },
  {
   "cell_type": "code",
   "execution_count": null,
   "id": "8e95bd40",
   "metadata": {},
   "outputs": [],
   "source": [
    "left_wing=['rightusername1','rightusername2','rightusername3']\n",
    "right_wing=['leftusername1','leftusername2','leftusername3']"
   ]
  },
  {
   "cell_type": "markdown",
   "id": "600a6d7f",
   "metadata": {},
   "source": [
    "If you added directly the txt file to the folder data, don't run the following cell."
   ]
  },
  {
   "cell_type": "code",
   "execution_count": null,
   "id": "63098d97",
   "metadata": {},
   "outputs": [],
   "source": [
    "with open(path_data+sep+'Left_Politicians.txt', 'w') as f:\n",
    "    for line in left_wing:\n",
    "        f.write(line)\n",
    "        f.write('\\n')\n",
    "        \n",
    "with open(path_data+sep+'Right_Politicians.txt', 'w') as f:\n",
    "    for line in right_wing:\n",
    "        f.write(line)\n",
    "        f.write('\\n')"
   ]
  },
  {
   "cell_type": "markdown",
   "id": "c008b740",
   "metadata": {},
   "source": [
    "**Manual input:** Define the period of time when you want to evaluate the use of hashtags to label Left and Right. We recomend a period when is easy to identificate right wing and left wing people (for instance an electoral period). Format YYYY-MM-DD"
   ]
  },
  {
   "cell_type": "code",
   "execution_count": 4,
   "id": "04f1e950",
   "metadata": {},
   "outputs": [],
   "source": [
    "start_date=\"2021-10-19\"\n",
    "end_date=\"2021-12-20\""
   ]
  },
  {
   "cell_type": "code",
   "execution_count": 5,
   "id": "4438d8f3",
   "metadata": {},
   "outputs": [],
   "source": [
    "filename = path_data+sep+'start_date_for_label.sav'\n",
    "pickle.dump((start_date), open(filename, 'wb'))\n",
    "\n",
    "filename = path_data+sep+'end_date_for_label.sav'\n",
    "pickle.dump((end_date), open(filename, 'wb'))"
   ]
  },
  {
   "cell_type": "markdown",
   "id": "ab9866a4",
   "metadata": {},
   "source": [
    "**Download the tweets**"
   ]
  },
  {
   "cell_type": "code",
   "execution_count": null,
   "id": "7001a6e5",
   "metadata": {},
   "outputs": [],
   "source": [
    "file=path_data+sep+'Left_Politicians.txt'\n",
    "%cd {path_data}\n",
    "! twarc2 timelines --archive --start-time {start_date} --end-time {end_date} {file} left_hashtags.json"
   ]
  },
  {
   "cell_type": "code",
   "execution_count": null,
   "id": "eab480eb",
   "metadata": {},
   "outputs": [],
   "source": [
    "file=path_data+sep+'Right_Politicians.txt'\n",
    "%cd {path_data}\n",
    "! twarc2 timelines --archive --start-time {start_date} --end-time {end_date} {file} right_hashtags.json"
   ]
  },
  {
   "cell_type": "markdown",
   "id": "efdf3743",
   "metadata": {},
   "source": [
    "Run the following cells only after you download the tweets."
   ]
  },
  {
   "cell_type": "code",
   "execution_count": 6,
   "id": "49d639c9",
   "metadata": {},
   "outputs": [],
   "source": [
    "converter = DataFrameConverter()\n",
    "data = []\n",
    "with open(path_data+sep+\"left_hashtags.json\") as f:\n",
    "    for line in f:\n",
    "        data.append(json.loads(line))\n",
    "df_left = converter.process(data)"
   ]
  },
  {
   "cell_type": "code",
   "execution_count": 7,
   "id": "be0e3c83",
   "metadata": {},
   "outputs": [],
   "source": [
    "def hash_retrieve(df):\n",
    "    \"\"\"\n",
    "    df : dataframe of tweets\n",
    "    Description: \n",
    "        The function takes as an object a df of tweets obtained via twarc and \n",
    "        returns a generator object.\n",
    "    \n",
    "    \"\"\"\n",
    "\n",
    "    for line, id in zip(df['entities.hashtags'], df['id']):\n",
    "        if pd.isna(line):\n",
    "            continue\n",
    "        line = line.strip()\n",
    "        data = json.loads(line)\n",
    "        for hashtag in ensure_flattened(data):\n",
    "            yield [hashtag['tag'], id]"
   ]
  },
  {
   "cell_type": "code",
   "execution_count": 8,
   "id": "046074b4",
   "metadata": {},
   "outputs": [],
   "source": [
    "hashtags_df = pd.DataFrame(list(hash_retrieve(df_left)),\n",
    "                 columns=['tweet_hashtags', 'id'])\n",
    "\n",
    "hashtags_df = hashtags_df.groupby('id')['tweet_hashtags'].apply(lambda x: ','.join(x))\n",
    "\n",
    "df_left = df_left.merge(hashtags_df, how='left', left_on='id', right_on='id')\n",
    "df_left['tweet_hashtags']=df_left['tweet_hashtags'].str.lower()"
   ]
  },
  {
   "cell_type": "code",
   "execution_count": 9,
   "id": "38bbc011",
   "metadata": {},
   "outputs": [],
   "source": [
    "hasht=[]\n",
    "for i in df_left.index:\n",
    "    try:\n",
    "        hasht.append(df_left['tweet_hashtags'][i].split(\",\"))\n",
    "    except:\n",
    "        hasht.append([])\n",
    "    \n",
    "    \n",
    "df_left['list_hashtags']=hasht"
   ]
  },
  {
   "cell_type": "code",
   "execution_count": 10,
   "id": "cbc51d8a",
   "metadata": {},
   "outputs": [],
   "source": [
    "hashtags=[]\n",
    "for i in df_left.index:\n",
    "    hashtags+=df_left['list_hashtags'][i]"
   ]
  },
  {
   "cell_type": "markdown",
   "id": "80e1ce43",
   "metadata": {},
   "source": [
    "**Manual revision:** Review the 100 most popular hashtags for left leaning politician during the selected period."
   ]
  },
  {
   "cell_type": "code",
   "execution_count": 11,
   "id": "fc1f8d4e",
   "metadata": {},
   "outputs": [
    {
     "name": "stdout",
     "output_type": "stream",
     "text": [
      "[('boricpresidente', 1095), ('seguimos', 606), ('boricpresidentedechile', 312), ('debateanatel', 260), ('cuartoretiro', 253), ('elecciones2021cl', 198), ('apruebodignidad', 195), ('franjaelectoral', 179), ('rutaesperanzaxboric', 176), ('matrimonioigualitario', 161), ('acusaciónconstitucional', 161), ('esposible', 154), ('boricnosune', 152), ('boricpresidente2022', 152), ('ladignidadesahora', 148), ('unmillondepuertasxboric', 142), ('1millondepuertasxboric', 137), ('meunoconboric', 136), ('chile', 131), ('votacomunista', 125), ('valdiviacl', 125), ('acusacionconstitucionalapiñera', 123), ('debatepresidencial2021', 121), ('ahorayasna', 117), ('boricpresidentedechile2022', 108), ('boricenprimeravuelta', 106), ('iquique', 106), ('coquimbo', 105), ('cuartoretirodel10xciento', 93), ('arica', 90), ('losrios', 88), ('vota1', 87), ('laserena', 82), ('paravivirmejor', 81), ('paraquechilesícambie', 68), ('covid19', 68), ('sueltenlasmicros', 66), ('atacama', 62), ('actitudregionalista', 62), ('debateanatel2021', 60), ('distrito13', 60), ('gabrielnosune', 59), ('acusacionconstitucional', 58), ('congresopopular', 57), ('debatearchi', 57), ('votauno', 57), ('antofagasta', 56), ('sanbernardo', 56), ('toleranciacero', 54), ('cooperativacontigo', 54), ('altohospicio', 53), ('ovalle', 52), ('gabrielboricpresidente', 48), ('lascarasdelamoneda', 48), ('contigochv', 47), ('boric', 47), ('fotoescolarxboric', 47), ('elecciones2021', 46), ('eleccioneschile2021', 46), ('maipú', 46), ('diadelosderechoshumanos', 44), ('vamosxboric', 44), ('enruta', 44), ('santiago', 43), ('franjaboric', 43), ('presupuesto2022', 43), ('cuartoretiro10xciento', 42), ('distrito10', 42), ('elcandidatoboricmv', 41), ('cárcamodiputado', 40), ('laflorida', 39), ('distrito14', 39), ('contigosiempre', 38), ('cuidadoconpinocho', 37), ('ps', 37), ('kastdevuelveelagua', 36), ('chileseráhermoso', 35), ('elpeligroeskast', 35), ('regióndecoquimbo', 35), ('barbaroja', 35), ('40horas', 34), ('kastmiente', 34), ('renca', 33), ('compartomiauto', 33), ('meunoxchile', 32), ('cuartoretiroahora', 32), ('somospueblo', 32), ('mesacentral', 32), ('candidatollegótuhora', 32), ('conchalí', 32), ('noadominga', 31), ('congreso2022', 31), ('recoleta', 30), ('comandosciudadanosxboric', 30), ('manuelahumada', 30), ('ahora', 29), ('tarapaca', 29), ('diacontralaviolenciadegenero', 29), ('boricparavivirmejor', 29), ('debateuchile', 28)]\n"
     ]
    }
   ],
   "source": [
    "from collections import Counter\n",
    "count = Counter(hashtags)\n",
    "most_occur = count.most_common(100)\n",
    "  \n",
    "print(most_occur)"
   ]
  },
  {
   "cell_type": "markdown",
   "id": "2051acb0",
   "metadata": {},
   "source": [
    "**Manual input** Decide the list of hashtags to label users. Think in hashtags that clearly identified the user with the left leaning. Don't use the # before the hashtag and use all the characters in lowercase. Max: 15 hashtags."
   ]
  },
  {
   "cell_type": "code",
   "execution_count": 12,
   "id": "036e708d",
   "metadata": {},
   "outputs": [],
   "source": [
    "left_hashtags=[\"boricpresidente\",\"seguimos\", \"boricpresidentedechile\", \"apruebodignidad\", \"rutaesperanzaxboric\", \"boricnosune\", \"boricpresidente2022\", \"unmillondepuertasxboric\", \"1millondepuertasxboric\", \"meunoconboric\", \"ahorayasna\", \"boricpresidentedechile2022\", \"boricenprimeravuelta\", \"vota1\", \"paravivirmejor\"]"
   ]
  },
  {
   "cell_type": "code",
   "execution_count": 13,
   "id": "a7830e30",
   "metadata": {},
   "outputs": [],
   "source": [
    "converter = DataFrameConverter()\n",
    "data = []\n",
    "with open(path_data+sep+\"right_hashtags.json\") as f:\n",
    "    for line in f:\n",
    "        data.append(json.loads(line))\n",
    "df_right = converter.process(data)"
   ]
  },
  {
   "cell_type": "code",
   "execution_count": 14,
   "id": "cfc69a9d",
   "metadata": {},
   "outputs": [],
   "source": [
    "hashtags_df = pd.DataFrame(list(hash_retrieve(df_right)),\n",
    "                 columns=['tweet_hashtags', 'id'])\n",
    "\n",
    "hashtags_df = hashtags_df.groupby('id')['tweet_hashtags'].apply(lambda x: ','.join(x))\n",
    "\n",
    "df_right = df_right.merge(hashtags_df, how='left', left_on='id', right_on='id')\n",
    "\n",
    "df_right['tweet_hashtags']=df_right['tweet_hashtags'].str.lower()"
   ]
  },
  {
   "cell_type": "code",
   "execution_count": 15,
   "id": "661b62bb",
   "metadata": {},
   "outputs": [],
   "source": [
    "hasht=[]\n",
    "for i in df_right.index:\n",
    "    try:\n",
    "        hasht.append(df_right['tweet_hashtags'][i].split(\",\"))\n",
    "    except:\n",
    "        hasht.append([])\n",
    "    \n",
    "    \n",
    "df_right['list_hashtags']=hasht"
   ]
  },
  {
   "cell_type": "code",
   "execution_count": 16,
   "id": "82e7b1b3",
   "metadata": {},
   "outputs": [],
   "source": [
    "hashtags=[]\n",
    "for i in df_right.index:\n",
    "    hashtags+=df_right['list_hashtags'][i]"
   ]
  },
  {
   "cell_type": "markdown",
   "id": "631f5a82",
   "metadata": {},
   "source": [
    "**Manual revision:** Review the 100 most popular hashtags for right leaning politician during the selected period."
   ]
  },
  {
   "cell_type": "code",
   "execution_count": 17,
   "id": "715bd032",
   "metadata": {},
   "outputs": [
    {
     "name": "stdout",
     "output_type": "stream",
     "text": [
      "[('covid_19', 406), ('sigamoscuidándonos', 304), ('vamosdefrente', 215), ('dosisderefuerzo', 207), ('yomevacuno', 204), ('atreveteconkast', 189), ('vanrysselberghesenadorbiobio', 186), ('kastpresidente2022', 166), ('valdiviacl', 152), ('kastpresidente', 139), ('enterreno', 111), ('siemprepresente', 108), ('valdivia', 102), ('laaraucanía', 100), ('leonidasromerodiputado', 100), ('vota2votakast', 90), ('elranco', 88), ('elecciones2021cl', 83), ('atreveteporchile', 76), ('antofagasta', 76), ('losrios', 74), ('distrito9', 69), ('sepuede', 68), ('todochileconkast', 68), ('losríos', 66), ('atréveteconkast', 64), ('covid', 63), ('fonotta', 63), ('chile', 62), ('votaaa60', 59), ('kastledaesperanzaachile', 57), ('asistencia100porciento', 57), ('lascondes', 56), ('iquique', 53), ('uniendoaladerecha', 53), ('vitacura', 50), ('lobarnechea', 50), ('lareina', 49), ('fiscalizaconmigo', 49), ('chilevotakast', 48), ('atrevidos', 47), ('covid19', 46), ('vota', 46), ('aa64', 46), ('debateanatel', 45), ('chiletienefuturo', 45), ('kast', 45), ('consichelsepuede', 44), ('chilenosune', 44), ('recoleta', 43), ('lascarasdelamoneda', 41), ('sichelpresidente', 41), ('cerronavia', 41), ('huechuraba', 40), ('independencia', 39), ('loprado', 39), ('quintanormal', 39), ('renca', 39), ('conchalí', 39), ('gonzalodelacarrera', 38), ('residenciassanitarias', 37), ('mesacentral', 36), ('boric', 35), ('atrevidosporkast', 34), ('tome', 34), ('distrito22', 33), ('debatearchi', 32), ('21denoviembre', 32), ('hualqui', 32), ('testéate', 32), ('matrimonioigualitario', 31), ('votakast', 31), ('mujeres', 30), ('mujeresporkast', 30), ('eslahoradekast', 28), ('peñalolen', 28), ('altohospicio', 28), ('debatepresidencial2021', 27), ('concepción', 27), ('concepcion', 27), ('candidatollegotuhora', 26), ('todovaaestarbien', 26), ('laserena', 26), ('elecciones2021', 25), ('aysén', 25), ('primerochile', 25), ('diputadosrn', 25), ('coquimbo', 25), ('boricmiente', 24), ('cuartoretiro', 24), ('kast2022', 24), ('atreveteporkast', 24), ('pcr', 23), ('kastesbuenaonda', 23), ('eleccioneschile2021', 22), ('kastenprimeravuelta', 22), ('kastlalleva', 21), ('puntaarenas', 21), ('lafiestadechile', 21), ('viñadelmar', 21)]\n"
     ]
    }
   ],
   "source": [
    "from collections import Counter\n",
    "count = Counter(hashtags)\n",
    "  \n",
    "# most_common() produces k frequently encountered\n",
    "# input values and their respective counts.\n",
    "most_occur = count.most_common(100)\n",
    "  \n",
    "print(most_occur)"
   ]
  },
  {
   "cell_type": "markdown",
   "id": "d5ca942b",
   "metadata": {},
   "source": [
    "**Manual input** Decide the list of hashtags to label users. Think in hashtags that clearly identified the user with the right leaning. Don't use the # before the hashtag and use all the characters in lowercase. Max: 15 hashtags."
   ]
  },
  {
   "cell_type": "code",
   "execution_count": 18,
   "id": "560aa5c5",
   "metadata": {},
   "outputs": [],
   "source": [
    "right_hashtags=[\"atreveteconkast\", \"kastpresidente2022\", \"kastpresidente\",\"vota2votakast\", \"atreveteporchile\", \"sepuede\", \"todochileconkast\", \"kastledaesperanzaachile\", \"chilevotakast\", \"atrevidos\", \"consichelsepuede\", \"sichelpresidente\", \"atrevidosporkast\", \"votakast\",\"mujeresporkast\"]"
   ]
  },
  {
   "cell_type": "code",
   "execution_count": 19,
   "id": "8db59d5d",
   "metadata": {},
   "outputs": [],
   "source": [
    "filename = path_data+sep+'left_hashtags_for_label.sav'\n",
    "pickle.dump((left_hashtags), open(filename, 'wb'))\n",
    "\n",
    "filename = path_data+sep+'right_hashtags_for_label.sav'\n",
    "pickle.dump((right_hashtags), open(filename, 'wb'))"
   ]
  },
  {
   "cell_type": "code",
   "execution_count": null,
   "id": "552ee82b",
   "metadata": {},
   "outputs": [],
   "source": []
  }
 ],
 "metadata": {
  "kernelspec": {
   "display_name": "Python 3 (ipykernel)",
   "language": "python",
   "name": "python3"
  },
  "language_info": {
   "codemirror_mode": {
    "name": "ipython",
    "version": 3
   },
   "file_extension": ".py",
   "mimetype": "text/x-python",
   "name": "python",
   "nbconvert_exporter": "python",
   "pygments_lexer": "ipython3",
   "version": "3.10.4"
  },
  "toc": {
   "base_numbering": 1,
   "nav_menu": {},
   "number_sections": false,
   "sideBar": true,
   "skip_h1_title": false,
   "title_cell": "Table of Contents",
   "title_sidebar": "Contents",
   "toc_cell": false,
   "toc_position": {},
   "toc_section_display": true,
   "toc_window_display": false
  }
 },
 "nbformat": 4,
 "nbformat_minor": 5
}
