{
 "cells": [
  {
   "cell_type": "code",
   "execution_count": 1,
   "id": "b7998fdd",
   "metadata": {},
   "outputs": [],
   "source": [
    "import pandas as pd\n",
    "import pickle"
   ]
  },
  {
   "cell_type": "markdown",
   "id": "558a64aa",
   "metadata": {},
   "source": [
    "**Manual input:** Set the path."
   ]
  },
  {
   "cell_type": "code",
   "execution_count": 2,
   "id": "a4e967e4",
   "metadata": {},
   "outputs": [],
   "source": [
    "path='C:/Users/acoub/OneDrive/Desktop/DSDM/Thesis/ChileGov/methodology_feminism'\n",
    "sep='/'"
   ]
  },
  {
   "cell_type": "code",
   "execution_count": 3,
   "id": "37df21a1",
   "metadata": {},
   "outputs": [],
   "source": [
    "path_scripts = path+sep+'initial'\n",
    "path_data= path+sep+'data'"
   ]
  },
  {
   "cell_type": "code",
   "execution_count": 4,
   "id": "c1493cf8",
   "metadata": {},
   "outputs": [],
   "source": [
    "file = path_data+sep+'keywords.sav'\n",
    "list_of_words=pickle.load(open(file, 'rb'))\n",
    "\n",
    "filename = path_data+sep+'start_search_date.sav'\n",
    "start_date=pickle.load(open(filename, 'rb'))\n",
    "\n",
    "filename = path_data+sep+'end_search_date.sav'\n",
    "end_date=pickle.load(open(filename, 'rb'))"
   ]
  },
  {
   "cell_type": "code",
   "execution_count": 5,
   "id": "e4841bd6",
   "metadata": {},
   "outputs": [],
   "source": [
    "file = path_data+sep+'final_data_set.sav'\n",
    "df = pickle.load(open(file, 'rb'))\n",
    "authors=list(df['author.username'])\n",
    "authors = list(set(authors))"
   ]
  },
  {
   "cell_type": "code",
   "execution_count": 6,
   "id": "99759dd4",
   "metadata": {},
   "outputs": [],
   "source": [
    "query=\"\"\n",
    "for word in list_of_words:\n",
    "    query+= word + \" OR \"\n",
    "query=query[:len(query)-4]\n",
    "query=\"(\"+query+\")\"+ \" is:retweet\""
   ]
  },
  {
   "cell_type": "code",
   "execution_count": 7,
   "id": "04eb9c4f",
   "metadata": {},
   "outputs": [],
   "source": [
    "query_text= query\n",
    "queries_list=[]\n",
    "query_from_good=\"\"\n",
    "query_from_test=\"\"\n",
    "\n",
    "for author in authors:\n",
    "    query_from_test+=\"from: \" + author + \" OR \"\n",
    "    if len(query_text + query_from_test) + 3 <= 1024:\n",
    "        query_from_good = query_from_test\n",
    "    else:\n",
    "        queries_list.append(\"(\"+query_from_good[:len(query_from_good)-4]+\")\"+ query_text)\n",
    "        query_from_good=\"from: \" + author + \" OR \"\n",
    "        query_from_test=\"from: \" + author + \" OR \""
   ]
  },
  {
   "cell_type": "code",
   "execution_count": 8,
   "id": "248eb076",
   "metadata": {},
   "outputs": [
    {
     "name": "stdout",
     "output_type": "stream",
     "text": [
      "18\n"
     ]
    }
   ],
   "source": [
    "print(len(queries_list))"
   ]
  },
  {
   "cell_type": "code",
   "execution_count": 9,
   "id": "fbda2282",
   "metadata": {},
   "outputs": [],
   "source": [
    "with open(path_data+sep+'search_for_network.txt', 'w') as f:\n",
    "    for line in queries_list:\n",
    "        f.write(line)\n",
    "        f.write('\\n')"
   ]
  },
  {
   "cell_type": "markdown",
   "id": "c24f634a",
   "metadata": {},
   "source": [
    "**Manual revision:** Run the following two cells to know the total number of tweets to download and see if does not exceed the limit of your twarc acount. If is OK run also the next cell."
   ]
  },
  {
   "cell_type": "code",
   "execution_count": 10,
   "id": "03bb9641",
   "metadata": {},
   "outputs": [
    {
     "name": "stdout",
     "output_type": "stream",
     "text": [
      "C:\\Users\\acoub\\OneDrive\\Desktop\\DSDM\\Thesis\\Methodology\\data\n"
     ]
    },
    {
     "name": "stderr",
     "output_type": "stream",
     "text": [
      "\n",
      "  0%|          | Processed 0/18 lines of input file [00:00<?, ?it/s]\n",
      " 11%|#1        | Processed 2/18 lines of input file [00:01<00:11,  1.45it/s]\n",
      " 17%|#6        | Processed 3/18 lines of input file [00:02<00:14,  1.04it/s]\n",
      " 22%|##2       | Processed 4/18 lines of input file [00:04<00:15,  1.10s/it]\n",
      " 28%|##7       | Processed 5/18 lines of input file [00:05<00:15,  1.18s/it]\n",
      " 33%|###3      | Processed 6/18 lines of input file [00:06<00:14,  1.21s/it]\n",
      " 39%|###8      | Processed 7/18 lines of input file [00:07<00:13,  1.22s/it]\n",
      " 44%|####4     | Processed 8/18 lines of input file [00:09<00:12,  1.23s/it]\n",
      " 50%|#####     | Processed 9/18 lines of input file [00:10<00:11,  1.24s/it]\n",
      " 56%|#####5    | Processed 10/18 lines of input file [00:11<00:10,  1.27s/it]\n",
      " 61%|######1   | Processed 11/18 lines of input file [00:13<00:08,  1.29s/it]\n",
      " 67%|######6   | Processed 12/18 lines of input file [00:14<00:07,  1.30s/it]\n",
      " 72%|#######2  | Processed 13/18 lines of input file [00:15<00:06,  1.31s/it]\n",
      " 78%|#######7  | Processed 14/18 lines of input file [00:17<00:05,  1.32s/it]\n",
      " 83%|########3 | Processed 15/18 lines of input file [00:18<00:03,  1.32s/it]\n",
      " 89%|########8 | Processed 16/18 lines of input file [00:19<00:02,  1.33s/it]\n",
      " 94%|#########4| Processed 17/18 lines of input file [00:21<00:01,  1.32s/it]\n",
      "100%|##########| Processed 18/18 lines of input file [00:22<00:00,  1.31s/it]\n",
      "100%|##########| Processed 18/18 lines of input file [00:23<00:00,  1.31s/it]\n"
     ]
    }
   ],
   "source": [
    "file=path_data+sep+'search_for_network.txt'\n",
    "%cd {path_data}\n",
    "! twarc2 searches --archive --counts-only --granularity day --start-time {start_date} --end-time {end_date} {file} labels_count.csv"
   ]
  },
  {
   "cell_type": "code",
   "execution_count": 11,
   "id": "1ab429f7",
   "metadata": {},
   "outputs": [
    {
     "name": "stdout",
     "output_type": "stream",
     "text": [
      "Tweets to download: 731\n"
     ]
    }
   ],
   "source": [
    "count=pd.read_csv(path_data+sep+'labels_count.csv',encoding = \"ISO-8859-1\")\n",
    "print(\"Tweets to download: \"+str(count['day_count'].sum()))"
   ]
  },
  {
   "cell_type": "markdown",
   "id": "b6cef22f",
   "metadata": {},
   "source": [
    "**Download the tweets:** (Only if you have enought limit in your twarc account)"
   ]
  },
  {
   "cell_type": "code",
   "execution_count": 12,
   "id": "6d41f921",
   "metadata": {},
   "outputs": [
    {
     "name": "stdout",
     "output_type": "stream",
     "text": [
      "C:\\Users\\acoub\\OneDrive\\Desktop\\DSDM\\Thesis\\Methodology\\data\n"
     ]
    },
    {
     "name": "stderr",
     "output_type": "stream",
     "text": [
      "\n",
      "  0%|          | Processed 0/18 lines of input file [00:00<?, ?it/s]\n",
      " 11%|#1        | Processed 2/18 lines of input file [00:02<00:18,  1.15s/it]\n",
      " 17%|#6        | Processed 3/18 lines of input file [00:04<00:21,  1.47s/it]\n",
      " 22%|##2       | Processed 4/18 lines of input file [00:06<00:22,  1.61s/it]\n",
      " 28%|##7       | Processed 5/18 lines of input file [00:07<00:21,  1.67s/it]\n",
      " 33%|###3      | Processed 6/18 lines of input file [00:10<00:22,  1.85s/it]\n",
      " 39%|###8      | Processed 7/18 lines of input file [00:12<00:23,  2.10s/it]\n",
      " 44%|####4     | Processed 8/18 lines of input file [00:14<00:21,  2.15s/it]\n",
      " 50%|#####     | Processed 9/18 lines of input file [00:16<00:18,  2.04s/it]\n",
      " 56%|#####5    | Processed 10/18 lines of input file [00:18<00:15,  1.98s/it]\n",
      " 61%|######1   | Processed 11/18 lines of input file [00:20<00:13,  1.96s/it]\n",
      " 67%|######6   | Processed 12/18 lines of input file [00:22<00:11,  1.91s/it]\n",
      " 72%|#######2  | Processed 13/18 lines of input file [00:24<00:09,  1.95s/it]\n",
      " 78%|#######7  | Processed 14/18 lines of input file [00:26<00:08,  2.09s/it]\n",
      " 83%|########3 | Processed 15/18 lines of input file [00:28<00:06,  2.10s/it]\n",
      " 89%|########8 | Processed 16/18 lines of input file [00:30<00:04,  2.11s/it]\n",
      " 94%|#########4| Processed 17/18 lines of input file [00:32<00:02,  2.03s/it]\n",
      "100%|##########| Processed 18/18 lines of input file [00:34<00:00,  2.01s/it]\n",
      "100%|##########| Processed 18/18 lines of input file [00:36<00:00,  2.05s/it]\n"
     ]
    }
   ],
   "source": [
    "%cd {path_data}\n",
    "! twarc2 searches --archive --start-time {start_date} --end-time {end_date} {file} rt_for_network.json"
   ]
  },
  {
   "cell_type": "code",
   "execution_count": null,
   "id": "45809c16",
   "metadata": {},
   "outputs": [],
   "source": []
  }
 ],
 "metadata": {
  "kernelspec": {
   "display_name": "Python 3 (ipykernel)",
   "language": "python",
   "name": "python3"
  },
  "language_info": {
   "codemirror_mode": {
    "name": "ipython",
    "version": 3
   },
   "file_extension": ".py",
   "mimetype": "text/x-python",
   "name": "python",
   "nbconvert_exporter": "python",
   "pygments_lexer": "ipython3",
   "version": "3.10.4"
  },
  "toc": {
   "base_numbering": 1,
   "nav_menu": {},
   "number_sections": false,
   "sideBar": true,
   "skip_h1_title": false,
   "title_cell": "Table of Contents",
   "title_sidebar": "Contents",
   "toc_cell": false,
   "toc_position": {},
   "toc_section_display": true,
   "toc_window_display": false
  }
 },
 "nbformat": 4,
 "nbformat_minor": 5
}
