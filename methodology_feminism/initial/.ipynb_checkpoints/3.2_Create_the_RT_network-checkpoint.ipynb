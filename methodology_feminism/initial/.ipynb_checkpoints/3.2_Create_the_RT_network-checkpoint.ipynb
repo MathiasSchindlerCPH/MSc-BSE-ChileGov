{
 "cells": [
  {
   "cell_type": "code",
   "execution_count": 1,
   "id": "8a74f818",
   "metadata": {},
   "outputs": [],
   "source": [
    "import pandas as pd\n",
    "import pickle\n",
    "import networkx as nx"
   ]
  },
  {
   "cell_type": "markdown",
   "id": "456a6d6f",
   "metadata": {},
   "source": [
    "**Manual Input**: Set the path."
   ]
  },
  {
   "cell_type": "code",
   "execution_count": 2,
   "id": "985a6e65",
   "metadata": {},
   "outputs": [],
   "source": [
    "path='C:/Users/acoub/OneDrive/Desktop/DSDM/Thesis/ChileGov/methodology_feminism'\n",
    "sep='/'"
   ]
  },
  {
   "cell_type": "code",
   "execution_count": 3,
   "id": "2764e0b2",
   "metadata": {},
   "outputs": [],
   "source": [
    "path_scripts = path+sep+'initial'\n",
    "path_data= path+sep+'data'"
   ]
  },
  {
   "cell_type": "code",
   "execution_count": 4,
   "id": "7bf4149a",
   "metadata": {},
   "outputs": [
    {
     "name": "stdout",
     "output_type": "stream",
     "text": [
      "C:\\Users\\acoub\\OneDrive\\Desktop\\DSDM\\Thesis\\Methodology\\data\n"
     ]
    }
   ],
   "source": [
    "%cd {path_data}\n",
    "! twarc2 network rt_for_network.json --format csv network.csv --edges retweet"
   ]
  },
  {
   "cell_type": "code",
   "execution_count": 5,
   "id": "44cd32a6",
   "metadata": {},
   "outputs": [
    {
     "data": {
      "text/html": [
       "<div>\n",
       "<style scoped>\n",
       "    .dataframe tbody tr th:only-of-type {\n",
       "        vertical-align: middle;\n",
       "    }\n",
       "\n",
       "    .dataframe tbody tr th {\n",
       "        vertical-align: top;\n",
       "    }\n",
       "\n",
       "    .dataframe thead th {\n",
       "        text-align: right;\n",
       "    }\n",
       "</style>\n",
       "<table border=\"1\" class=\"dataframe\">\n",
       "  <thead>\n",
       "    <tr style=\"text-align: right;\">\n",
       "      <th></th>\n",
       "      <th>0</th>\n",
       "      <th>1</th>\n",
       "      <th>2</th>\n",
       "      <th>3</th>\n",
       "    </tr>\n",
       "  </thead>\n",
       "  <tbody>\n",
       "    <tr>\n",
       "      <th>0</th>\n",
       "      <td>margaritpastene</td>\n",
       "      <td>voceriagobierno</td>\n",
       "      <td>{'weight': 1</td>\n",
       "      <td>'retweet': 1}</td>\n",
       "    </tr>\n",
       "    <tr>\n",
       "      <th>1</th>\n",
       "      <td>margaritpastene</td>\n",
       "      <td>MinMujeryEG</td>\n",
       "      <td>{'weight': 1</td>\n",
       "      <td>'retweet': 1}</td>\n",
       "    </tr>\n",
       "    <tr>\n",
       "      <th>2</th>\n",
       "      <td>margaritpastene</td>\n",
       "      <td>CarlaSantanaSM</td>\n",
       "      <td>{'weight': 1</td>\n",
       "      <td>'retweet': 1}</td>\n",
       "    </tr>\n",
       "    <tr>\n",
       "      <th>3</th>\n",
       "      <td>margaritpastene</td>\n",
       "      <td>camila_vallejo</td>\n",
       "      <td>{'weight': 2</td>\n",
       "      <td>'retweet': 2}</td>\n",
       "    </tr>\n",
       "    <tr>\n",
       "      <th>4</th>\n",
       "      <td>margaritpastene</td>\n",
       "      <td>izkia</td>\n",
       "      <td>{'weight': 1</td>\n",
       "      <td>'retweet': 1}</td>\n",
       "    </tr>\n",
       "  </tbody>\n",
       "</table>\n",
       "</div>"
      ],
      "text/plain": [
       "                 0                1             2               3\n",
       "0  margaritpastene  voceriagobierno  {'weight': 1   'retweet': 1}\n",
       "1  margaritpastene      MinMujeryEG  {'weight': 1   'retweet': 1}\n",
       "2  margaritpastene   CarlaSantanaSM  {'weight': 1   'retweet': 1}\n",
       "3  margaritpastene   camila_vallejo  {'weight': 2   'retweet': 2}\n",
       "4  margaritpastene            izkia  {'weight': 1   'retweet': 1}"
      ]
     },
     "execution_count": 5,
     "metadata": {},
     "output_type": "execute_result"
    }
   ],
   "source": [
    "edges=pd.read_csv(path_data+sep+\"network.csv\",header=None)\n",
    "edges.head()"
   ]
  },
  {
   "cell_type": "code",
   "execution_count": 6,
   "id": "0e881915",
   "metadata": {},
   "outputs": [],
   "source": [
    "edges.columns=['retweeted_by','original_author','weight','rts']\n",
    "edges['len']=edges['weight'].str.len()"
   ]
  },
  {
   "cell_type": "code",
   "execution_count": 7,
   "id": "69f57d54",
   "metadata": {},
   "outputs": [],
   "source": [
    "# Given that the weight comes in a string format, we should extract only the digits, depending on the long of the string we know how many characters we should extract\n",
    "sub_edges=[]\n",
    "for lon in range(edges['len'].min(),edges['len'].max()+1):\n",
    "    sub_edges.append(edges[edges.len==lon])"
   ]
  },
  {
   "cell_type": "code",
   "execution_count": 8,
   "id": "29039bb2",
   "metadata": {},
   "outputs": [],
   "source": [
    "numb=[]\n",
    "for i in range(0,len(sub_edges)):\n",
    "    numb.append(-i-1)\n",
    "for df,j in zip(sub_edges,numb):\n",
    "    weights=df['weight'].str[j:]\n",
    "    df['weight']=weights\n",
    "    df['weight']=df['weight'].astype(int)"
   ]
  },
  {
   "cell_type": "code",
   "execution_count": 9,
   "id": "1d2cf98f",
   "metadata": {},
   "outputs": [],
   "source": [
    "edges=pd.concat(sub_edges)\n",
    "edges=edges.drop(['rts','len'],axis=1)"
   ]
  },
  {
   "cell_type": "code",
   "execution_count": 10,
   "id": "89a2a089",
   "metadata": {},
   "outputs": [],
   "source": [
    "#Eliminating self retweets.\n",
    "edges=edges[edges.retweeted_by!=edges.original_author]"
   ]
  },
  {
   "cell_type": "code",
   "execution_count": 11,
   "id": "f85a72fb",
   "metadata": {},
   "outputs": [],
   "source": [
    "file = path_data+sep+'final_data_set.sav'\n",
    "df = pickle.load(open(file, 'rb'))\n",
    "authors=list(df['author.username'])\n",
    "authors = list(set(authors))\n",
    "\n",
    "\n",
    "file = path_data+sep+'labeled_users.sav'\n",
    "labels=pickle.load(open(file, 'rb'))"
   ]
  },
  {
   "cell_type": "code",
   "execution_count": 12,
   "id": "17e40e02",
   "metadata": {},
   "outputs": [
    {
     "data": {
      "text/plain": [
       "Unlabeled    567\n",
       "Left         123\n",
       "Right         73\n",
       "Name: Label, dtype: int64"
      ]
     },
     "execution_count": 12,
     "metadata": {},
     "output_type": "execute_result"
    }
   ],
   "source": [
    "authors_with_label=pd.DataFrame()\n",
    "authors_with_label['author.username']=authors\n",
    "authors_with_label=authors_with_label.merge(labels[['author.username','Label']],on='author.username',how='left')\n",
    "authors_with_label['Label']=authors_with_label['Label'].fillna(\"Unlabeled\")\n",
    "authors_with_label['Label'].value_counts()"
   ]
  },
  {
   "cell_type": "markdown",
   "id": "73c95176",
   "metadata": {},
   "source": [
    "### Creating the network"
   ]
  },
  {
   "cell_type": "code",
   "execution_count": 13,
   "id": "cc79508d",
   "metadata": {},
   "outputs": [],
   "source": [
    "total_G= nx.DiGraph()\n",
    "left_authors=list(authors_with_label[authors_with_label.Label==\"Left\"]['author.username'])\n",
    "right_authors=list(authors_with_label[authors_with_label.Label==\"Right\"]['author.username'])\n",
    "unlabeled_authors=list(authors_with_label[authors_with_label.Label==\"Unlabeled\"]['author.username'])"
   ]
  },
  {
   "cell_type": "code",
   "execution_count": 14,
   "id": "117360f3",
   "metadata": {},
   "outputs": [],
   "source": [
    "total_G.add_nodes_from(left_authors, af=\"Left\")\n",
    "total_G.add_nodes_from(right_authors, af=\"Right\")\n",
    "total_G.add_nodes_from(unlabeled_authors, af=\"Unlabeled\")"
   ]
  },
  {
   "cell_type": "code",
   "execution_count": 15,
   "id": "044f9d6c",
   "metadata": {},
   "outputs": [],
   "source": [
    "for i in edges.index:\n",
    "    if edges['retweeted_by'][i] in authors and edges['original_author'][i] in authors:\n",
    "        total_G.add_edge(edges['retweeted_by'][i],edges['original_author'][i],weight=edges['weight'][i])"
   ]
  },
  {
   "cell_type": "code",
   "execution_count": 16,
   "id": "41859481",
   "metadata": {},
   "outputs": [],
   "source": [
    "#Export\n",
    "filename = path_data+sep+'complete_network.sav'\n",
    "pickle.dump((total_G), open(filename, 'wb'))"
   ]
  },
  {
   "cell_type": "code",
   "execution_count": null,
   "id": "cf54fdb3",
   "metadata": {},
   "outputs": [],
   "source": []
  }
 ],
 "metadata": {
  "kernelspec": {
   "display_name": "Python 3",
   "language": "python",
   "name": "python3"
  },
  "language_info": {
   "codemirror_mode": {
    "name": "ipython",
    "version": 3
   },
   "file_extension": ".py",
   "mimetype": "text/x-python",
   "name": "python",
   "nbconvert_exporter": "python",
   "pygments_lexer": "ipython3",
   "version": "3.8.8"
  }
 },
 "nbformat": 4,
 "nbformat_minor": 5
}
