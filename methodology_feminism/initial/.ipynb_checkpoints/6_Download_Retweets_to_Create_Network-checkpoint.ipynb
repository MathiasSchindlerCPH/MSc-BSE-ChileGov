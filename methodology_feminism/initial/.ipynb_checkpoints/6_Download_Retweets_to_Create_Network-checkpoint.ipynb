{
 "cells": [
  {
   "cell_type": "code",
   "execution_count": null,
   "id": "b7998fdd",
   "metadata": {},
   "outputs": [],
   "source": [
    "import pandas as pd\n",
    "import pickle"
   ]
  },
  {
   "cell_type": "markdown",
   "id": "558a64aa",
   "metadata": {},
   "source": [
    "**Manual input:** Set the path."
   ]
  },
  {
   "cell_type": "code",
   "execution_count": null,
   "id": "a4e967e4",
   "metadata": {},
   "outputs": [],
   "source": [
    "path='C:/Users/acoub/OneDrive/Desktop/DSDM/Thesis/Methodology'\n",
    "sep='/'"
   ]
  },
  {
   "cell_type": "code",
   "execution_count": null,
   "id": "37df21a1",
   "metadata": {},
   "outputs": [],
   "source": [
    "path_scripts = path+sep+'new_topic'\n",
    "path_data= path+sep+'data'"
   ]
  },
  {
   "cell_type": "markdown",
   "id": "77eb1160",
   "metadata": {},
   "source": [
    "**Manual input:** Re-enter the list of words used to do the final search and the dates."
   ]
  },
  {
   "cell_type": "code",
   "execution_count": null,
   "id": "c1493cf8",
   "metadata": {},
   "outputs": [],
   "source": [
    "list_of_words=['mejorar','inmigracion','laborales']\n",
    "start_date=\"2021-12-10\"\n",
    "end_date=\"2021-12-12\""
   ]
  },
  {
   "cell_type": "code",
   "execution_count": null,
   "id": "e4841bd6",
   "metadata": {},
   "outputs": [],
   "source": [
    "file = path_data+sep+'final_data_set.sav'\n",
    "df = pickle.load(open(file, 'rb'))\n",
    "authors=list(df['author.username'])\n",
    "authors = list(set(authors))"
   ]
  },
  {
   "cell_type": "code",
   "execution_count": null,
   "id": "99759dd4",
   "metadata": {},
   "outputs": [],
   "source": [
    "query=\"\"\n",
    "for word in list_of_words:\n",
    "    query+= word + \" OR \"\n",
    "query=query[:len(query)-4]\n",
    "query=\"(\"+query+\")\"+ \" is:retweet\""
   ]
  },
  {
   "cell_type": "code",
   "execution_count": null,
   "id": "04eb9c4f",
   "metadata": {},
   "outputs": [],
   "source": [
    "query_text= query\n",
    "queries_list=[]\n",
    "query_from_good=\"\"\n",
    "query_from_test=\"\"\n",
    "\n",
    "for author in authors:\n",
    "    query_from_test+=\"from: \" + author + \" OR \"\n",
    "    if len(query_text + query_from_test) + 3 <= 1024:\n",
    "        query_from_good = query_from_test\n",
    "    else:\n",
    "        queries_list.append(\"(\"+query_from_good[:len(query_from_good)-4]+\")\"+ query_text)\n",
    "        query_from_good=\"from: \" + author + \" OR \"\n",
    "        query_from_test=\"from: \" + author + \" OR \""
   ]
  },
  {
   "cell_type": "code",
   "execution_count": null,
   "id": "248eb076",
   "metadata": {},
   "outputs": [],
   "source": [
    "print(len(queries_list))"
   ]
  },
  {
   "cell_type": "code",
   "execution_count": null,
   "id": "aa0f830e",
   "metadata": {},
   "outputs": [],
   "source": [
    "# We review that our code works.\n",
    "for query in queries_list:\n",
    "    if len(query)>1024:\n",
    "        print(\"Error\")"
   ]
  },
  {
   "cell_type": "code",
   "execution_count": null,
   "id": "fbda2282",
   "metadata": {},
   "outputs": [],
   "source": [
    "with open(path_data+sep+'search_for_network.txt', 'w') as f:\n",
    "    for line in queries_list:\n",
    "        f.write(line)\n",
    "        f.write('\\n')"
   ]
  },
  {
   "cell_type": "markdown",
   "id": "c24f634a",
   "metadata": {},
   "source": [
    "**Manual revision:** Run the following two cells to know the total number of tweets to download and see if does not exceed the limit of your twarc acount. If is OK run also the next cell."
   ]
  },
  {
   "cell_type": "code",
   "execution_count": null,
   "id": "03bb9641",
   "metadata": {},
   "outputs": [],
   "source": [
    "file=path_data+sep+'search_for_network.txt'\n",
    "%cd {path_data}\n",
    "! twarc2 searches --archive --counts-only --granularity day --start-time {start_date} --end-time {end_date} {file} labels_count.csv"
   ]
  },
  {
   "cell_type": "code",
   "execution_count": null,
   "id": "1ab429f7",
   "metadata": {},
   "outputs": [],
   "source": [
    "count=pd.read_csv(path_data+sep+'search_for_labels.txt',encoding = \"ISO-8859-1\")\n",
    "print(\"Tweets to download: \"+str(count['day_count'].sum()))"
   ]
  },
  {
   "cell_type": "markdown",
   "id": "b6cef22f",
   "metadata": {},
   "source": [
    "**Download the tweets:** (Only if you have enought limit in your twarc account)"
   ]
  },
  {
   "cell_type": "code",
   "execution_count": null,
   "id": "6d41f921",
   "metadata": {},
   "outputs": [],
   "source": [
    "%cd {path_data}\n",
    "! twarc2 searches --archive --start-time {start_date} --end-time {end_date} {file} rt_for_network.json"
   ]
  }
 ],
 "metadata": {
  "kernelspec": {
   "display_name": "Python 3",
   "language": "python",
   "name": "python3"
  },
  "language_info": {
   "codemirror_mode": {
    "name": "ipython",
    "version": 3
   },
   "file_extension": ".py",
   "mimetype": "text/x-python",
   "name": "python",
   "nbconvert_exporter": "python",
   "pygments_lexer": "ipython3",
   "version": "3.8.8"
  }
 },
 "nbformat": 4,
 "nbformat_minor": 5
}
