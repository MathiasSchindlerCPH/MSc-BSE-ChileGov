{
 "cells": [
  {
   "cell_type": "code",
   "execution_count": 1,
   "id": "60b386fd",
   "metadata": {},
   "outputs": [],
   "source": [
    "import json\n",
    "from twarc_csv import DataFrameConverter\n",
    "from twarc.expansions import ensure_flattened\n",
    "import pandas as pd\n",
    "from twarc_csv import dataframe_converter\n",
    "from twarc_csv import CSVConverter, DataFrameConverter\n",
    "import math\n",
    "import emoji\n",
    "from operator import itemgetter\n",
    "import matplotlib.pyplot as plt\n",
    "from datetime import datetime\n",
    "from datetime import timedelta\n",
    "from advertools import extract_emoji\n",
    "import numpy as np\n",
    "import pickle"
   ]
  },
  {
   "cell_type": "markdown",
   "id": "1ab6be53",
   "metadata": {},
   "source": [
    "**Manual Input**: Set the path."
   ]
  },
  {
   "cell_type": "code",
   "execution_count": 2,
   "id": "4b2d6d1f",
   "metadata": {},
   "outputs": [],
   "source": [
    "path='C:/Users/acoub/OneDrive/Desktop/DSDM/Thesis/ChileGov/methodology_feminism'\n",
    "sep='/'"
   ]
  },
  {
   "cell_type": "code",
   "execution_count": 3,
   "id": "cf949fe4",
   "metadata": {},
   "outputs": [],
   "source": [
    "path_scripts = path+sep+'initial'\n",
    "path_data= path+sep+'data'"
   ]
  },
  {
   "cell_type": "code",
   "execution_count": 4,
   "id": "04a87016",
   "metadata": {},
   "outputs": [],
   "source": [
    "converter = DataFrameConverter()\n",
    "data = []\n",
    "with open(path+sep+\"data\"+sep+\"first_search.json\") as f:\n",
    "    for line in f:\n",
    "        data.append(json.loads(line))\n",
    "df = converter.process(data)"
   ]
  },
  {
   "cell_type": "code",
   "execution_count": 5,
   "id": "90d70a66",
   "metadata": {},
   "outputs": [
    {
     "data": {
      "text/plain": [
       "(186, 74)"
      ]
     },
     "execution_count": 5,
     "metadata": {},
     "output_type": "execute_result"
    }
   ],
   "source": [
    "df.shape"
   ]
  },
  {
   "cell_type": "code",
   "execution_count": 6,
   "id": "eb7a7557",
   "metadata": {},
   "outputs": [],
   "source": [
    "def hash_retrieve(df):\n",
    "    \"\"\"\n",
    "    df : dataframe of tweets\n",
    "    Description: \n",
    "        The function takes as an object a df of tweets obtained via twarc and \n",
    "        returns a generator object.\n",
    "    \n",
    "    \"\"\"\n",
    "\n",
    "    for line, id in zip(df['entities.hashtags'], df['id']):\n",
    "        if pd.isna(line):\n",
    "            continue\n",
    "        line = line.strip()\n",
    "        data = json.loads(line)\n",
    "        for hashtag in ensure_flattened(data):\n",
    "            yield [hashtag['tag'], id]"
   ]
  },
  {
   "cell_type": "code",
   "execution_count": 7,
   "id": "a7f028f5",
   "metadata": {},
   "outputs": [],
   "source": [
    "hashtags_df = pd.DataFrame(list(hash_retrieve(df)),\n",
    "                 columns=['tweet_hashtags', 'id'])\n",
    "\n",
    "hashtags_df = hashtags_df.groupby('id')['tweet_hashtags'].apply(lambda x: ','.join(x))\n",
    "df = df.merge(hashtags_df, how='left', left_on='id', right_on='id')\n",
    "df['tweet_hashtags']=df['tweet_hashtags'].str.lower()"
   ]
  },
  {
   "cell_type": "code",
   "execution_count": 8,
   "id": "53c35286",
   "metadata": {},
   "outputs": [],
   "source": [
    "hasht=[]\n",
    "for i in df.index:\n",
    "    try:\n",
    "        hasht.append(df['tweet_hashtags'][i].split(\",\"))\n",
    "    except:\n",
    "        hasht.append([])\n",
    "    \n",
    "    \n",
    "df['list_hashtags']=hasht"
   ]
  },
  {
   "cell_type": "code",
   "execution_count": 9,
   "id": "19f38bb4",
   "metadata": {},
   "outputs": [],
   "source": [
    "hashtags=[]\n",
    "for i in df.index:\n",
    "    hashtags+=df['list_hashtags'][i]"
   ]
  },
  {
   "cell_type": "markdown",
   "id": "b82dbfa3",
   "metadata": {},
   "source": [
    "**Look output**: 100 most used hashtag for your topic in tweets geolocated in Chile."
   ]
  },
  {
   "cell_type": "code",
   "execution_count": 10,
   "id": "a0c4166a",
   "metadata": {},
   "outputs": [
    {
     "name": "stdout",
     "output_type": "stream",
     "text": [
      "[('8m', 26), ('feminismo', 17), ('8marzo2022', 10), ('8m2022', 7), ('boricpresidentedechile', 6), ('chile', 6), ('feminista', 6), ('cambiodemando', 5), ('diadelamujer', 5), ('8marzo', 5), ('boric', 4), ('feministas', 4), ('mujeres', 3), ('8demarzo', 3), ('internationalwomensday', 3), ('cambiodemando2022', 2), ('boricpresidente', 2), ('machismo', 2), ('sanmiguel', 2), ('seguimos', 2), ('feminazis', 2), ('nomerepresentan', 2), ('womensday', 2), ('cuba', 2), ('chileestadeluto', 1), ('acosadorboric', 1), ('parlamentofeminista', 1), ('chaopinera', 1), ('cerrocastillo', 1), ('gabinetefeminista', 1), ('11demarzo', 1), ('discipulogranfinal', 1), ('lastarria', 1), ('lamanada', 1), ('constituyentechile', 1), ('abortolegalseguroygratuito', 1), ('seraley', 1), ('derechoalaautonomia', 1), ('aborto', 1), ('abortolegal', 1), ('ahoraysiemprehermanas', 1), ('antofagasta', 1), ('coctelería', 1), ('barwoman', 1), ('bartender', 1), ('cocktails', 1), ('barmaid', 1), ('feminist', 1), ('girlspower', 1), ('amigas', 1), ('amor', 1), ('uniom', 1), ('lpa', 1), ('prensacut', 1), ('reddecentrosculturales', 1), ('contigochv', 1), ('tudia13', 1), ('buenosdiastvn', 1), ('muchogustomega', 1), ('biobío', 1), ('t13', 1), ('retolectorbpdigital', 1), ('valparaíso', 1), ('mariellefranco', 1), ('píasotosalazar', 1), ('territorio', 1), ('diormiopaciencia', 1), ('prisionparalastesis', 1), ('hembristas', 1), ('feminaziparatutongo', 1), ('feminismoparasermejores', 1), ('marzo8', 1), ('mybithday', 1), ('nuevaconstitucion', 1), ('cdmx', 1), ('niunamenos', 1), ('vivasnosqueremos', 1), ('rechazoelmamarracho', 1), ('todassomostrabajadoras', 1), ('8m22', 1), ('tenemossubsecretaria', 1), ('autorasleenautoras', 1), ('talca', 1), ('womanpower', 1), ('8demarzomv', 1), ('nuevaconstitución', 1), ('convención8m', 1), ('hombres', 1), ('vallejo', 1), ('feministasdecarton', 1), ('nohablesenminombre', 1), ('tocopilla', 1), ('igualdad', 1), ('amotocopilla', 1), ('losandes', 1), ('diainternacionaldelamujer', 1), ('elimimaelbloqueo', 1), ('marcha8m', 1), ('marcha', 1)]\n"
     ]
    }
   ],
   "source": [
    "from collections import Counter\n",
    "count = Counter(hashtags)\n",
    "  \n",
    "# most_common() produces k frequently encountered\n",
    "# input values and their respective counts.\n",
    "most_occur = count.most_common(100)\n",
    "  \n",
    "print(most_occur)"
   ]
  },
  {
   "cell_type": "code",
   "execution_count": 11,
   "id": "be38d010",
   "metadata": {},
   "outputs": [],
   "source": [
    "import numpy as np\n",
    "import pandas as pd\n",
    "import emoji\n",
    "from nltk.corpus import stopwords\n",
    "from nltk.stem import SnowballStemmer   \n",
    "from nltk.stem.wordnet import WordNetLemmatizer\n",
    "import nltk\n",
    "import re\n",
    "import matplotlib.pyplot as plt\n",
    "import seaborn as sns\n",
    "import string\n",
    "\n",
    "stopwords_eng =stopwords.words(\"english\")\n",
    "stopwords_es =stopwords.words(\"spanish\")\n",
    "stopwords_all=stopwords_eng+stopwords_es\n",
    "\n",
    "def cleanTweets(s,remove_hash):\n",
    "    #Function to clean tweets, for now i am keeping emojis and hashtags. Alternative version\n",
    "    if type(s)==np.float:\n",
    "        return \"\"\n",
    "    #Demojize text\n",
    "#    s=emoji.demojize(s,delimiters=(\"\", \" \"))\n",
    "    \n",
    "    #Remove new lines, etc.\n",
    "    s = s.replace(r'<lb>', \"\\n\")\n",
    "    s = s.replace(r'<tab>', \"\\i\")\n",
    "    s = re.sub(r'<br */*>', \"\\n\", s)\n",
    "    s = s.replace(\"&lt;\", \"<\").replace(\"&gt;\", \">\").replace(\"&amp;\", \"&\")\n",
    "    s = s.replace(\"&amp;\", \"&\")\n",
    "    s = s.replace(\"\\n\", \" \")\n",
    "    s = s.replace(\"\\\\n\", \" \")\n",
    "    \n",
    "    emoji_pattern = re.compile(\"[\"\n",
    "        u\"\\U0001F600-\\U0001F64F\"  # emoticons\n",
    "        u\"\\U0001F300-\\U0001F5FF\"  # symbols & pictographs\n",
    "        u\"\\U0001F680-\\U0001F6FF\"  # transport & map symbols\n",
    "        u\"\\U0001F1E0-\\U0001F1FF\"  # flags (iOS)\n",
    "                           \"]+\", flags=re.UNICODE)\n",
    "    s= emoji_pattern.sub(r'', s)\n",
    "    \n",
    "    \n",
    "    # markdown urls\n",
    "    s = re.sub(r'\\(https*://[^\\)]*\\)', \"\", s)\n",
    "    # normal urls\n",
    "    s = re.sub(r'https*://[^\\s]*', \"\", s)\n",
    "    #s = re.sub(r'_+', ' ', s)\n",
    "    s = re.sub(r'\"+', '\"', s)\n",
    "    #Remove punctuation    \n",
    "    s = re.sub('[()!?]', ' ', s)\n",
    "    s = re.sub('\\[.*?\\]',' ', s)\n",
    "    s = re.sub('\\[,*?\\]',' ', s)\n",
    "    # custom removals\n",
    "    #s = re.sub(r'@[A-Za-z0-9_]+', \"\", s) # replace mentions\n",
    "    s = re.sub(r':[^:]+','[emoji]',s) # remove demojized text\n",
    "    s= re.sub(r'[0-9]','',s)# remove digits\n",
    "    \n",
    "    s = s.translate(str.maketrans('', '', '!\"$%&\\'()*+,-./:;<=>?[\\\\]^_`{|}~'))\n",
    "    \n",
    "    s=s.lower()\n",
    "    if remove_hash==True:\n",
    "        s = re.sub(r'#[A-Za-z0-9_]+', \"\", s)\n",
    "    \n",
    "    #Remove stopwords\n",
    "    s = ' '.join([word for word in s.split() if word not in stopwords_all])\n",
    "    \n",
    "    return str(s)"
   ]
  },
  {
   "cell_type": "code",
   "execution_count": 12,
   "id": "c54139c4",
   "metadata": {},
   "outputs": [
    {
     "name": "stderr",
     "output_type": "stream",
     "text": [
      "<ipython-input-11-8fa97597cc03>:19: DeprecationWarning: `np.float` is a deprecated alias for the builtin `float`. To silence this warning, use `float` by itself. Doing this will not modify any behavior and is safe. If you specifically wanted the numpy scalar type, use `np.float64` here.\n",
      "Deprecated in NumPy 1.20; for more details and guidance: https://numpy.org/devdocs/release/1.20.0-notes.html#deprecations\n",
      "  if type(s)==np.float:\n"
     ]
    }
   ],
   "source": [
    "import unidecode\n",
    "df['cleaned_text'] = [cleanTweets(text,False) for text in df['text']]\n",
    "df['cleaned_text']= df['cleaned_text'].apply(unidecode.unidecode)"
   ]
  },
  {
   "cell_type": "markdown",
   "id": "228d0164",
   "metadata": {},
   "source": [
    "**Look output**: 100 most used word for your topic in tweets geolocated in Chile."
   ]
  },
  {
   "cell_type": "code",
   "execution_count": 13,
   "id": "bffeb1b4",
   "metadata": {},
   "outputs": [
    {
     "name": "stdout",
     "output_type": "stream",
     "text": [
      "[('feminista', 77), ('feminismo', 51), ('mujeres', 44), ('feministas', 35), ('#m', 33), ('si', 20), ('mujer', 19), ('chile', 18), ('q', 17), ('ser', 16), ('#marzo', 16), ('gobierno', 15), ('#feminismo', 15), ('marcha', 15), ('dia', 14), ('solo', 13), ('asi', 11), ('hoy', 11), ('hombres', 11), ('igualdad', 11), ('todas', 9), ('@gabrielboric', 9), ('hombre', 9), ('lucha', 9), ('tan', 8), ('parte', 8), ('genero', 8), ('siempre', 7), ('mundo', 7), ('poder', 7), ('derechos', 7), ('hace', 6), ('mama', 6), ('#boricpresidentedechile', 6), ('movimiento', 6), ('ver', 6), ('nuevo', 6), ('#chile', 6), ('#cambiodemando', 6), ('#feminista', 6), ('anos', 6), ('gracias', 6), ('verguenza', 6), ('via', 5), ('cosas', 5), ('pais', 5), ('presidente', 5), ('mas', 5), ('justo', 5), ('aborto', 5), ('lindo', 5), ('violencia', 5), ('trabajo', 5), ('santiago', 5), ('#diadelamujer', 5), ('dan', 4), ('gabinete', 4), ('nueva', 4), ('toda', 4), ('gusta', 4), ('van', 4), ('foto', 4), ('x', 4), ('mucha', 4), ('mejor', 4), ('fin', 4), ('#demarzo', 4), ('#boric', 4), ('acoso', 4), ('raja', 4), ('cambio', 4), ('cada', 4), ('aun', 4), ('bien', 4), ('salen', 4), ('puede', 4), ('dias', 4), ('parece', 4), ('busca', 4), ('amigo', 4), ('xq', 4), ('menos', 4), ('@teremarinovic', 4), ('aqui', 4), ('veo', 4), ('#feministas', 4), ('llamado', 4), ('entender', 4), ('desigualdad', 4), ('primer', 3), ('latinoamericano', 3), ('@elpaisamerica', 3), ('ahora', 3), ('lado', 3), ('miren', 3), ('fuerza', 3), ('region', 3), ('importante', 3), ('vida', 3), ('vez', 3), ('femenino', 3), ('equidad', 3), ('tremenda', 3), ('esperanza', 3), ('odio', 3), ('chilena', 3), ('emocion', 3), ('tener', 3), ('creo', 3), ('ninas', 3), ('grupo', 3), ('ademas', 3), ('ja', 3), ('um', 3), ('constitucion', 3), ('emoji', 3), ('ven', 3), ('quieren', 3), ('aunque', 3), ('jamas', 3), ('lejos', 3), ('chicas', 3), ('@uchileradio', 3), ('sino', 3), ('ideologia', 3), ('pueden', 3), ('contrario', 3), ('#mujeres', 3), ('historia', 3), ('vivir', 3), ('hecho', 3), ('ex', 3), ('brillante', 3), ('bueno', 3), ('logre', 3), ('sororidad', 3), ('sienten', 3), ('iguales', 3), ('machismo', 3), ('circo', 3), ('nunca', 3), ('termino', 3), ('miles', 3), ('naci', 3), ('#internationalwomensday', 3), ('consolida', 2), ('clase', 2), ('rato', 2), ('cancha', 2), ('creen', 2), ('ministra', 2), ('@izkia', 2), ('gran', 2), ('encuentro', 2), ('jefa', 2), ('proceso', 2), ('llore', 2), ('himno', 2), ('entendido', 2), ('generos', 2), ('pro', 2), ('desafio', 2), ('demandas', 2), ('protocolo', 2), ('calle', 2), ('exito', 2), ('feliz', 2), ('cuenta', 2), ('totalmente', 2), ('viva', 2), ('asume', 2), ('companeros', 2), ('ninos', 2), ('fotos', 2), ('problema', 2), ('semana', 2), ('haran', 2), ('hermoso', 2), ('intacta', 2), ('equipo', 2), ('trato', 2), ('seguire', 2), ('trabajando', 2), ('vamos', 2), ('radicales', 2), ('educar', 2), ('hijos', 2), ('machistas', 2), ('libertad', 2), ('criticas', 2), ('idea', 2), ('sigue', 2), ('sociedad', 2), ('ir', 2), ('hijo', 2), ('hija', 2), ('peo', 2), ('boric', 2), ('lastarria', 2), ('amor', 2)]\n"
     ]
    }
   ],
   "source": [
    "df['cleaned_text']=df['cleaned_text'].fillna(\"\")\n",
    "string=\" \".join(list(df['cleaned_text']))\n",
    "from collections import Counter\n",
    "split_it = string.split()\n",
    "Counter = Counter(split_it)\n",
    "most_occur = Counter.most_common(200)\n",
    "  \n",
    "print(most_occur)"
   ]
  },
  {
   "cell_type": "markdown",
   "id": "07b4330d",
   "metadata": {},
   "source": [
    "**Manual input**: Looking the most common words in chilean context, decide if you want to add new words to the list and put all the words in the list (the words that you used in the first search and also the words that you want to add).\n",
    "  \n",
    "Also add the start and end date for your final data set."
   ]
  },
  {
   "cell_type": "code",
   "execution_count": 14,
   "id": "f4d82bdb",
   "metadata": {},
   "outputs": [],
   "source": [
    "list_of_words=['feminismo','feminista','feministas','sexismo','sexista','machismo','sororidad','genero']"
   ]
  },
  {
   "cell_type": "code",
   "execution_count": 15,
   "id": "5b5f7e45",
   "metadata": {},
   "outputs": [],
   "source": [
    "filename = path_data+sep+'keywords.sav'\n",
    "pickle.dump((list_of_words), open(filename, 'wb'))"
   ]
  },
  {
   "cell_type": "code",
   "execution_count": 16,
   "id": "b814afa2",
   "metadata": {},
   "outputs": [],
   "source": [
    "filename = path_data+sep+'start_search_date.sav'\n",
    "start_date= pickle.load(open(filename, 'rb'))\n",
    "\n",
    "filename = path_data+sep+'end_search_date.sav'\n",
    "end_date= pickle.load(open(filename, 'rb'))"
   ]
  },
  {
   "cell_type": "markdown",
   "id": "7597fe3f",
   "metadata": {},
   "source": [
    "**Manual input:** Add words related with your country of interest separated by an OR."
   ]
  },
  {
   "cell_type": "code",
   "execution_count": 17,
   "id": "36b41f5c",
   "metadata": {},
   "outputs": [],
   "source": [
    "str_country=\"(chile OR santiago OR iquique OR arica OR piñera OR pinera OR boric OR kast OR valparaiso OR antofagasta OR colchane OR copiapo OR coquimbo OR rancagua OR talca OR conce OR temuco OR puerto montt OR valdivia OR coyhaique OR punta arenas OR weon OR weona)\""
   ]
  },
  {
   "cell_type": "code",
   "execution_count": 18,
   "id": "5357974b",
   "metadata": {},
   "outputs": [],
   "source": [
    "filename = path_data+sep+'country_string.sav'\n",
    "pickle.dump((str_country), open(filename, 'wb'))"
   ]
  },
  {
   "cell_type": "markdown",
   "id": "869fae87",
   "metadata": {},
   "source": [
    "Read the output and follow the instruction in case that you have to remove some words."
   ]
  },
  {
   "cell_type": "code",
   "execution_count": 19,
   "id": "90765fba",
   "metadata": {},
   "outputs": [
    {
     "name": "stdout",
     "output_type": "stream",
     "text": [
      "Ready to run the next cell and search in twarc.\n"
     ]
    }
   ],
   "source": [
    "query=\"\"\n",
    "for word in list_of_words:\n",
    "    query+= word + \" OR \"\n",
    "query=query[:len(query)-4]\n",
    "\n",
    "query_place=\"(\"+query+\")\"+ \" -is:retweet place_country:CL\"\n",
    "query_wrelated=\"(\"+query+\")\"+ str_country + \" -is:retweet\"\n",
    "\n",
    "if len(query_place)<=1024 and len(query_wrelated)<=1024:\n",
    "    print(\"Ready to run the next cell and search in twarc.\")\n",
    "else:\n",
    "    print(\"Query too long, reduce the list of words.\")"
   ]
  },
  {
   "cell_type": "code",
   "execution_count": 20,
   "id": "4f8b2ef0",
   "metadata": {},
   "outputs": [],
   "source": [
    "with open(path_data+sep+\"second_search.txt\", 'w') as f:\n",
    "    f.write(query_place)\n",
    "    f.write(\"\\n\")\n",
    "    f.write(query_wrelated)"
   ]
  },
  {
   "cell_type": "markdown",
   "id": "7bf01629",
   "metadata": {},
   "source": [
    "**Manual revision:** Run the following two cells to know the total number of tweets to download and see if does not exceed the limit of your twarc acount. If is OK run also the next cell."
   ]
  },
  {
   "cell_type": "code",
   "execution_count": 21,
   "id": "c1efcc74",
   "metadata": {},
   "outputs": [
    {
     "name": "stdout",
     "output_type": "stream",
     "text": [
      "C:\\Users\\acoub\\OneDrive\\Desktop\\DSDM\\Thesis\\Methodology\\data\n"
     ]
    },
    {
     "name": "stderr",
     "output_type": "stream",
     "text": [
      "\n",
      "  0%|          | Processed 0/2 lines of input file [00:00<?, ?it/s]\n",
      "100%|##########| Processed 2/2 lines of input file [00:01<00:00,  1.38it/s]\n",
      "100%|##########| Processed 2/2 lines of input file [00:02<00:00,  1.39s/it]\n"
     ]
    }
   ],
   "source": [
    "file=path_data+sep+\"second_search.txt\"\n",
    "%cd {path_data}\n",
    "! twarc2 searches --archive --counts-only --granularity day --start-time {start_date} --end-time {end_date} {file} second_search_count.csv"
   ]
  },
  {
   "cell_type": "code",
   "execution_count": 22,
   "id": "26700b65",
   "metadata": {},
   "outputs": [
    {
     "name": "stdout",
     "output_type": "stream",
     "text": [
      "Tweets to download: 2444\n"
     ]
    }
   ],
   "source": [
    "count=pd.read_csv(path_data+sep+'second_search_count.csv',encoding = \"ISO-8859-1\")\n",
    "print(\"Tweets to download: \"+str(count['day_count'].sum()))"
   ]
  },
  {
   "cell_type": "markdown",
   "id": "d4e5305f",
   "metadata": {},
   "source": [
    "**Download the tweets:** (Only if you have enought limit in your twarc account)"
   ]
  },
  {
   "cell_type": "code",
   "execution_count": 23,
   "id": "8b66f034",
   "metadata": {},
   "outputs": [
    {
     "name": "stdout",
     "output_type": "stream",
     "text": [
      "C:\\Users\\acoub\\OneDrive\\Desktop\\DSDM\\Thesis\\Methodology\\data\n"
     ]
    },
    {
     "name": "stderr",
     "output_type": "stream",
     "text": [
      "\n",
      "  0%|          | Processed 0/2 lines of input file [00:00<?, ?it/s]\n",
      "100%|##########| Processed 2/2 lines of input file [00:06<00:00,  3.49s/it]\n",
      "100%|##########| Processed 2/2 lines of input file [00:57<00:00, 28.96s/it]\n"
     ]
    }
   ],
   "source": [
    "%cd {path_data}\n",
    "! twarc2 searches --archive --start-time {start_date} --end-time {end_date} {file} second_search.json"
   ]
  },
  {
   "cell_type": "code",
   "execution_count": null,
   "id": "c4514268",
   "metadata": {},
   "outputs": [],
   "source": []
  }
 ],
 "metadata": {
  "kernelspec": {
   "display_name": "Python 3",
   "language": "python",
   "name": "python3"
  },
  "language_info": {
   "codemirror_mode": {
    "name": "ipython",
    "version": 3
   },
   "file_extension": ".py",
   "mimetype": "text/x-python",
   "name": "python",
   "nbconvert_exporter": "python",
   "pygments_lexer": "ipython3",
   "version": "3.8.8"
  }
 },
 "nbformat": 4,
 "nbformat_minor": 5
}
